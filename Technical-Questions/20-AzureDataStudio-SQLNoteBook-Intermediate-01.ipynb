{
    "metadata": {
        "kernelspec": {
            "name": "SQL",
            "display_name": "SQL",
            "language": "sql"
        },
        "language_info": {
            "name": "sql",
            "version": ""
        }
    },
    "nbformat_minor": 2,
    "nbformat": 4,
    "cells": [
        {
            "cell_type": "markdown",
            "source": "## Instructions\r\n\r\nYou will need to **modify** the query below each question to satisfy the task. \r\n\r\n> **Important**: Queries are only partialy completed and get harder after each question.",
            "metadata": {}
        },
        {
            "cell_type": "code",
            "source": "USE WideWorldImporters;",
            "metadata": {},
            "outputs": [],
            "execution_count": 1
        },
        {
            "cell_type": "markdown",
            "source": "<hr />",
            "metadata": {}
        },
        {
            "cell_type": "markdown",
            "source": "## Q1: Delivery Time\r\n\r\nAs a Manager, I want to know how many **days** it takes for an order to be *expectedly* delivered. I would also like to be able to aggregate by OrderPeriod which needs to be of type `Date`\r\n\r\n### Task:\r\n\r\n- **Modify** the below query to \r\n    - Add a column called `ExpectedDaysToDelivery` that is the number of days between `OrderDate` & `ExpectedDeliveryDate`\r\n    - Add a column called `OrderPeriod` that is the 1st of the month. i.e `YYYY-MM-01`\r\n\r\n### Expected ResultSet \r\n\r\n|PurchaseOrderID|SupplierID|OrderPeriod|OrderDate|DeliveryMethodID|ExpectedDeliveryDate|SupplierReference|IsOrderFinalized|ExpectedDaysToDelivery|\r\n|-|-|-|-|-|-|-|-|-|\r\n|559|7|2013-12-01|2013-12-02|2|2013-12-22|BC0280982|1|20|\r\n|.|\r\n|563|7|2013-12-01|2013-12-04|2|2013-12-24|BC0280982|1|20|\r\n|.|\r\n|567|7|2013-12-01|2013-12-06|2|2013-12-26|BC0280982|1|20|\r\n\r\n\r\n",
            "metadata": {}
        },
        {
            "cell_type": "code",
            "source": "-- 20-01-Q1\r\n-- (SSMS) Save Filename as: 20-01-Q1.sql\r\n\r\nUSE WideWorldImporters;\r\n\r\nSELECT\r\n    PurchaseOrderID\r\n  , SupplierID\r\n  , 'CHANGEME/FIXME' AS OrderPeriod\r\n  , OrderDate\r\n  , DeliveryMethodID\r\n  , ExpectedDeliveryDate\r\n  , SupplierReference\r\n  , IsOrderFinalized\r\n  , 'CHANGEME/FIXME' AS ExpectedDaysToDelivery\r\nFROM Purchasing.PurchaseOrders \r\nWHERE OrderDate BETWEEN '2013-12-01' AND '2014-02-01'\r\n;",
            "metadata": {},
            "outputs": [],
            "execution_count": 2
        },
        {
            "cell_type": "markdown",
            "source": "<hr />",
            "metadata": {}
        },
        {
            "cell_type": "markdown",
            "source": "## Q2: Delivery Period Summary\r\n\r\nBuilding on the last query, I would like to get an Aggregate based on `OrderPeriod`\r\n\r\n### Task:\r\n\r\n- **Modify** the below query to return \r\n    - Add the `DeliveryMethodName` from `Application.DeliveryMethods`\r\n    - Add a new column `MinExpectedDaysToDelivery` which is the `MIN` of `ExpectedDaysToDelivery`\r\n    - Add a new column `MaxExpectedDaysToDelivery` which is the `MAX` of `ExpectedDaysToDelivery`\r\n    - Aggregate by `OrderPeriod`\r\n    - Aggregate by `DeliveryMethodName`\r\n\r\n### Expected ResultSet\r\n|OrderPeriod|DeliveryMethodName|MinExpectedDaysToDelivery|MaxExpectedDaysToDelivery|TotalPurchaseOrders|\r\n|----------|-------|--|--|--|\r\n|2013-12-01|Courier|20|20|23|\r\n|.|\r\n|2014-03-01|Courier|14|20|24|\r\n|.|\r\n|2014-05-01|Courier|14|20|25|\r\n\r\n",
            "metadata": {}
        },
        {
            "cell_type": "code",
            "source": "-- 20-01-Q2\r\n-- (SSMS) Save Filename as: 20-01-Q2.sql\r\n\r\nUSE WideWorldImporters;\r\n\r\nSELECT\r\n    'CHANGEME/FIXME' AS OrderPeriod\r\n  , DeliveryMethodName\r\n  , MIN( 'CHANGEME/FIXME') AS MinExpectedDaysToDelivery\r\n  , MAX( 'CHANGEME/FIXME') AS MaxExpectedDaysToDelivery\r\n  , COUNT(1) AS TotalPurchaseOrders\r\nFROM\r\n    Purchasing.PurchaseOrders P\r\nWHERE P.IsOrderFinalized = 1\r\nAND DeliveryMethodName = 'Courier'\r\nAND P.OrderDate BETWEEN '2013-12-01' AND '2014-06-01'\r\n",
            "metadata": {},
            "outputs": [],
            "execution_count": 3
        },
        {
            "cell_type": "markdown",
            "source": "<hr />",
            "metadata": {}
        }
    ]
}