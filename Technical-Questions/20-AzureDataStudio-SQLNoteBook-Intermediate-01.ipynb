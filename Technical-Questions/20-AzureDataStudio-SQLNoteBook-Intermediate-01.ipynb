{
    "metadata": {
        "kernelspec": {
            "name": "SQL",
            "display_name": "SQL",
            "language": "sql"
        },
        "language_info": {
            "name": "sql",
            "version": ""
        }
    },
    "nbformat_minor": 2,
    "nbformat": 4,
    "cells": [
        {
            "cell_type": "markdown",
            "source": [
                "## Common Instructions\n",
                "\n",
                "## \n",
                "\n",
                "You will need to **modify** the query below each question to satisfy the task.\n",
                "\n",
                "**Important**: Queries are only partially completed, they are to point you in the right direction but you are free to rewrite them.\n",
                "\n",
                "**What is evaluated ?**\n",
                "\n",
                "- Ability to understand the requirements and provide a correct result-set\n",
                "- Ordering is important _only if_ mentioned (_as some of this is evaluated automatically_).\n",
                "- Columns in resultset _only if_ specified (otherwise is insignificant)\n",
                "\n",
                "**Tables Used**\n",
                "\n",
                "- `Purchasing.PurchaseOrders`"
            ],
            "metadata": {
                "azdata_cell_guid": "5327673e-f264-4a15-ae63-6aaa0142ff4d"
            }
        },
        {
            "cell_type": "code",
            "source": [
                "USE WideWorldImporters;"
            ],
            "metadata": {
                "azdata_cell_guid": "60c09626-89ec-42ce-bfa1-a603e921eff1"
            },
            "outputs": [],
            "execution_count": 1
        },
        {
            "cell_type": "markdown",
            "source": [
                "<hr />"
            ],
            "metadata": {
                "azdata_cell_guid": "fa225521-096d-45c0-9085-4ceebb3f2da8"
            }
        },
        {
            "cell_type": "markdown",
            "source": [
                "## Q1: Delivery Time\r\n",
                "\r\n",
                "As a Manager, I want to know how many **days** it takes for an order to be *expectedly* delivered. I would also like to be able to aggregate by OrderPeriod which needs to be of type `Date`\r\n",
                "\r\n",
                "### Task:\r\n",
                "\r\n",
                "- **Modify** the below query to \r\n",
                "    - Add a column called `ExpectedDaysToDelivery` that is the number of days between `OrderDate` & `ExpectedDeliveryDate`\r\n",
                "    - Add a column called `OrderPeriod` that is the 1st of the month. i.e `YYYY-MM-01`\r\n",
                "\r\n",
                "### Expected ResultSet \r\n",
                "\r\n",
                "|PurchaseOrderID|SupplierID|OrderPeriod|OrderDate|DeliveryMethodID|ExpectedDeliveryDate|SupplierReference|IsOrderFinalized|ExpectedDaysToDelivery|\r\n",
                "|-|-|-|-|-|-|-|-|-|\r\n",
                "|559|7|2013-12-01|2013-12-02|2|2013-12-22|BC0280982|1|20|\r\n",
                "|.|\r\n",
                "|563|7|2013-12-01|2013-12-04|2|2013-12-24|BC0280982|1|20|\r\n",
                "|.|\r\n",
                "|567|7|2013-12-01|2013-12-06|2|2013-12-26|BC0280982|1|20|\r\n",
                "\r\n",
                "\r\n",
                ""
            ],
            "metadata": {
                "azdata_cell_guid": "28f94e6f-fa99-4bf5-ba1c-dfbaeb23a7e3"
            }
        },
        {
            "cell_type": "code",
            "source": [
                "-- 20-01-Q1\r\n",
                "-- (SSMS) Save Filename as: 20-01-Q1.sql\r\n",
                "\r\n",
                "USE WideWorldImporters;\r\n",
                "\r\n",
                "SELECT\r\n",
                "    PurchaseOrderID\r\n",
                "  , SupplierID\r\n",
                "  , 'CHANGEME/FIXME' AS OrderPeriod\r\n",
                "  , OrderDate\r\n",
                "  , DeliveryMethodID\r\n",
                "  , ExpectedDeliveryDate\r\n",
                "  , SupplierReference\r\n",
                "  , IsOrderFinalized\r\n",
                "  , 'CHANGEME/FIXME' AS ExpectedDaysToDelivery\r\n",
                "FROM Purchasing.PurchaseOrders \r\n",
                "WHERE OrderDate BETWEEN '2013-12-01' AND '2014-02-01'\r\n",
                ";"
            ],
            "metadata": {
                "azdata_cell_guid": "81765eb9-968b-43cc-9849-aaeefe0a17a0"
            },
            "outputs": [],
            "execution_count": 2
        },
        {
            "cell_type": "markdown",
            "source": [
                "<hr />"
            ],
            "metadata": {
                "azdata_cell_guid": "dc6e5507-c806-47e2-93ab-200cb9f1cbe1"
            }
        },
        {
            "cell_type": "markdown",
            "source": [
                "## Q2: Delivery Period Summary\r\n",
                "\r\n",
                "Building on the last query, I would like to get an Aggregate based on `OrderPeriod`\r\n",
                "\r\n",
                "### Task:\r\n",
                "\r\n",
                "- **Modify** the below query to return \r\n",
                "    - Add the `DeliveryMethodName` from `Application.DeliveryMethods`\r\n",
                "    - Add a new column `MinExpectedDaysToDelivery` which is the `MIN` of `ExpectedDaysToDelivery`\r\n",
                "    - Add a new column `MaxExpectedDaysToDelivery` which is the `MAX` of `ExpectedDaysToDelivery`\r\n",
                "    - Aggregate by `OrderPeriod`\r\n",
                "    - Aggregate by `DeliveryMethodName`\r\n",
                "\r\n",
                "### Expected ResultSet\r\n",
                "|OrderPeriod|DeliveryMethodName|MinExpectedDaysToDelivery|MaxExpectedDaysToDelivery|TotalPurchaseOrders|\r\n",
                "|----------|-------|--|--|--|\r\n",
                "|2013-12-01|Courier|20|20|23|\r\n",
                "|.|\r\n",
                "|2014-03-01|Courier|14|20|24|\r\n",
                "|.|\r\n",
                "|2014-05-01|Courier|14|20|25|\r\n",
                "\r\n",
                ""
            ],
            "metadata": {
                "azdata_cell_guid": "e5798cc5-755c-4ffd-a658-0ff1a3d5c076"
            }
        },
        {
            "cell_type": "code",
            "source": [
                "-- 20-01-Q2\r\n",
                "-- (SSMS) Save Filename as: 20-01-Q2.sql\r\n",
                "\r\n",
                "USE WideWorldImporters;\r\n",
                "\r\n",
                "SELECT\r\n",
                "    'CHANGEME/FIXME' AS OrderPeriod\r\n",
                "  , DeliveryMethodName\r\n",
                "  , MIN( 'CHANGEME/FIXME') AS MinExpectedDaysToDelivery\r\n",
                "  , MAX( 'CHANGEME/FIXME') AS MaxExpectedDaysToDelivery\r\n",
                "  , COUNT(1) AS TotalPurchaseOrders\r\n",
                "FROM\r\n",
                "    Purchasing.PurchaseOrders P\r\n",
                "WHERE P.IsOrderFinalized = 1\r\n",
                "AND DeliveryMethodName = 'Courier'\r\n",
                "AND P.OrderDate BETWEEN '2013-12-01' AND '2014-06-01'\r\n",
                ""
            ],
            "metadata": {
                "azdata_cell_guid": "7e8c0542-b0b4-43b3-a4bc-2f6cbcbc2cc8"
            },
            "outputs": [],
            "execution_count": 3
        },
        {
            "cell_type": "markdown",
            "source": [
                "<hr />"
            ],
            "metadata": {
                "azdata_cell_guid": "abd47e62-ab33-4ffe-be32-84b17be7ee61"
            }
        }
    ]
}