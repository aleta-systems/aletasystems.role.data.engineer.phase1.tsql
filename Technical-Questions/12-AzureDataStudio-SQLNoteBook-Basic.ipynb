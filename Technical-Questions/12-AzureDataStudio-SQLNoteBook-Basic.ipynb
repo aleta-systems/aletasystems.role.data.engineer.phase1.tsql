{
    "metadata": {
        "kernelspec": {
            "name": "SQL",
            "display_name": "SQL",
            "language": "sql"
        },
        "language_info": {
            "name": "sql",
            "version": ""
        }
    },
    "nbformat_minor": 2,
    "nbformat": 4,
    "cells": [
        {
            "cell_type": "markdown",
            "source": [
                "## Common Instructions\n",
                "\n",
                "## \n",
                "\n",
                "You will need to **modify** the query below each question to satisfy the task.\n",
                "\n",
                "**Important**: Queries are only partially completed, they are to point you in the right direction but you are free to rewrite them.\n",
                "\n",
                "**What is evaluated ?**\n",
                "\n",
                "- Ability to understand the requirements and provide a correct result-set\n",
                "- Ordering is important _only if_ mentioned (_as some of this is evaluated automatically_).\n",
                "- Columns in resultset _only if_ specified (otherwise is insignificant)\n",
                "\n",
                "**Tables Used**\n",
                "\n",
                "- `Sales.Orders`"
            ],
            "metadata": {
                "azdata_cell_guid": "ac6a1497-c080-4a42-94aa-98785baec985"
            }
        },
        {
            "cell_type": "code",
            "source": [
                "USE WideWorldImporters;"
            ],
            "metadata": {
                "azdata_cell_guid": "fb3f92b7-a8cc-46d9-a412-3fb81ea826bd"
            },
            "outputs": [],
            "execution_count": 10
        },
        {
            "cell_type": "markdown",
            "source": [
                "<hr />"
            ],
            "metadata": {
                "azdata_cell_guid": "5168172e-d6e8-4d75-8c35-de8d51acf644"
            }
        },
        {
            "cell_type": "markdown",
            "source": [
                "`01-Q1`\r\n",
                "\r\n",
                "**Time Guideline**: 10-15 Minutes\r\n",
                "\r\n",
                "**Background**: A customer can make multiple orders in a month, we want to know what was the first order delivered for a given month.\r\n",
                "\r\n",
                "**Task:** For a specific customer, we want to find out what was the FIRST delivery they had each month using the `ExpectedDeliveryDate`. \r\n",
                "\r\n",
                "- For `CustomerID = 90` and `ExpectedDeliveryDate BETWEEN '2013-01-01' AND '2013-12-31'`\r\n",
                "- Identify the first Delivery made each month.\r\n",
                "- A `CTE` has been consturucted, but you may write it in any way.\r\n",
                " \r\n",
                "**Note:** The resultset below is the correct answer.\r\n",
                "\r\n",
                ""
            ],
            "metadata": {
                "azdata_cell_guid": "dc026efc-46f1-40b7-8f33-0fe2bb9ba4be"
            }
        },
        {
            "cell_type": "code",
            "source": [
                "-- 12-01-Q1\r\n",
                "-- (SSMS) Save Filename as: 12-01-Q1.sql\r\n",
                "\r\n",
                "USE WideWorldImporters;\r\n",
                "\r\n",
                "WITH CTE\r\n",
                "   AS (SELECT *\r\n",
                "       FROM Sales.Orders O\r\n",
                "       WHERE O.CustomerID = 90\r\n",
                "\t     AND O.ExpectedDeliveryDate BETWEEN '2013-01-01' AND '2013-12-31'\r\n",
                "\t   )\r\n",
                "SELECT c.OrderID\r\n",
                "     , c.CustomerID\r\n",
                "     , c.OrderDate\r\n",
                "     , c.ExpectedDeliveryDate\r\n",
                "FROM CTE c\r\n",
                ""
            ],
            "metadata": {
                "azdata_cell_guid": "b017c996-c70a-4491-98be-bf52be323e88"
            },
            "outputs": [
                {
                    "output_type": "display_data",
                    "data": {
                        "text/html": "(11 rows affected)"
                    },
                    "metadata": {}
                },
                {
                    "output_type": "display_data",
                    "data": {
                        "text/html": "Total execution time: 00:00:00.010"
                    },
                    "metadata": {}
                },
                {
                    "output_type": "execute_result",
                    "execution_count": 1,
                    "data": {
                        "application/vnd.dataresource+json": {
                            "schema": {
                                "fields": [
                                    {
                                        "name": "OrderID"
                                    },
                                    {
                                        "name": "CustomerID"
                                    },
                                    {
                                        "name": "OrderDate"
                                    },
                                    {
                                        "name": "ExpectedDeliveryDate"
                                    }
                                ]
                            },
                            "data": [
                                {
                                    "0": "1455",
                                    "1": "90",
                                    "2": "2013-01-29",
                                    "3": "2013-01-30"
                                },
                                {
                                    "0": "1890",
                                    "1": "90",
                                    "2": "2013-02-06",
                                    "3": "2013-02-07"
                                },
                                {
                                    "0": "2865",
                                    "1": "90",
                                    "2": "2013-03-01",
                                    "3": "2013-03-04"
                                },
                                {
                                    "0": "4626",
                                    "1": "90",
                                    "2": "2013-04-02",
                                    "3": "2013-04-03"
                                },
                                {
                                    "0": "6638",
                                    "1": "90",
                                    "2": "2013-05-08",
                                    "3": "2013-05-09"
                                },
                                {
                                    "0": "10807",
                                    "1": "90",
                                    "2": "2013-07-18",
                                    "3": "2013-07-19"
                                },
                                {
                                    "0": "12044",
                                    "1": "90",
                                    "2": "2013-08-10",
                                    "3": "2013-08-12"
                                },
                                {
                                    "0": "13249",
                                    "1": "90",
                                    "2": "2013-09-04",
                                    "3": "2013-09-05"
                                },
                                {
                                    "0": "15460",
                                    "1": "90",
                                    "2": "2013-10-16",
                                    "3": "2013-10-17"
                                },
                                {
                                    "0": "16678",
                                    "1": "90",
                                    "2": "2013-11-08",
                                    "3": "2013-11-11"
                                },
                                {
                                    "0": "18096",
                                    "1": "90",
                                    "2": "2013-12-04",
                                    "3": "2013-12-05"
                                }
                            ]
                        },
                        "text/html": "<table><tr><th>OrderID</th><th>CustomerID</th><th>OrderDate</th><th>ExpectedDeliveryDate</th></tr><tr><td>1455</td><td>90</td><td>2013-01-29</td><td>2013-01-30</td></tr><tr><td>1890</td><td>90</td><td>2013-02-06</td><td>2013-02-07</td></tr><tr><td>2865</td><td>90</td><td>2013-03-01</td><td>2013-03-04</td></tr><tr><td>4626</td><td>90</td><td>2013-04-02</td><td>2013-04-03</td></tr><tr><td>6638</td><td>90</td><td>2013-05-08</td><td>2013-05-09</td></tr><tr><td>10807</td><td>90</td><td>2013-07-18</td><td>2013-07-19</td></tr><tr><td>12044</td><td>90</td><td>2013-08-10</td><td>2013-08-12</td></tr><tr><td>13249</td><td>90</td><td>2013-09-04</td><td>2013-09-05</td></tr><tr><td>15460</td><td>90</td><td>2013-10-16</td><td>2013-10-17</td></tr><tr><td>16678</td><td>90</td><td>2013-11-08</td><td>2013-11-11</td></tr><tr><td>18096</td><td>90</td><td>2013-12-04</td><td>2013-12-05</td></tr></table>"
                    },
                    "metadata": {}
                }
            ],
            "execution_count": 1
        },
        {
            "cell_type": "markdown",
            "source": [
                "<hr/>"
            ],
            "metadata": {
                "azdata_cell_guid": "c8632c10-06db-4b6a-893e-61ba61a8b69a"
            }
        }
    ]
}