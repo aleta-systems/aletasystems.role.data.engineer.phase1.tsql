{
    "metadata": {
        "kernelspec": {
            "name": "SQL",
            "display_name": "SQL",
            "language": "sql"
        },
        "language_info": {
            "name": "sql",
            "version": ""
        }
    },
    "nbformat_minor": 2,
    "nbformat": 4,
    "cells": [
        {
            "cell_type": "code",
            "source": "USE WideWorldImporters;",
            "metadata": {},
            "outputs": [],
            "execution_count": 10
        },
        {
            "cell_type": "markdown",
            "source": "<hr />",
            "metadata": {}
        },
        {
            "cell_type": "markdown",
            "source": "`01-Q1`\r\n\r\n**Time Guideline**: 10-15 Minutes\r\n\r\n**Background**: When all items of an order are not in stock, a backorder is automatically made. A backorder is a _child order_ with the missing items, the parent (main) order contains a link to the child (backorder) using the `BackorderOrderID`. \r\n\r\n**Task:** For all orders made on `'2013-01-01'`, I would like to know if it is `Ready` / `BackOrdered` and when it is backordered what is the `ExpectedDeliveryDate`. \r\n\r\n- Return *all* orders made on `'2013-01-01'` \r\n- _Add_ a new column, that indicates the `OrderStatus` which can be either `Ready` / `BackOrdered`\r\n- _Add_ a new column, which is the `LatestExpectedDeliveryDate`. \r\n - When an order is back-ordered, it is the `ExpectedDeliveryDate` from the Back-Order(Child)\r\n - Otherwise it is the `ExpectedDeliveryDate` from the parent.\r\n \r\n> To prevent confusion, the `ON` code for the join has been written. You need to insert an appropriate `join`\r\n\r\n**Note:** The resultset below is the correct answer.\r\n\r\n",
            "metadata": {}
        },
        {
            "cell_type": "code",
            "source": "-- 11-01-Q1\r\n-- (SSMS) Save Filename as: 11-01-Q1.sql\r\n\r\nUSE WideWorldImporters;\r\n\r\nSELECT\r\n    O.OrderID\r\n  , O.CustomerID\r\n  , O.OrderDate\r\n  --, N'Ready'/N'BackOrdered' AS OrderStatus\r\n  --, 'Order/BackOrder ExpectedDeliveryDate' AS LatestExpectedDeliveryDate\r\nFROM\r\n    Sales.Orders O\r\n-- Sales.Orders B\r\n--  ON B.OrderID = O.BackorderOrderID\r\nWHERE O.OrderDate = '2013-01-01' \r\nORDER BY O.OrderID ;",
            "metadata": {},
            "outputs": [
                {
                    "output_type": "display_data",
                    "data": {
                        "text/html": "(79 rows affected)"
                    },
                    "metadata": {}
                },
                {
                    "output_type": "display_data",
                    "data": {
                        "text/html": "Total execution time: 00:00:00.019"
                    },
                    "metadata": {}
                },
                {
                    "output_type": "execute_result",
                    "execution_count": 5,
                    "data": {
                        "application/vnd.dataresource+json": {
                            "schema": {
                                "fields": [
                                    {
                                        "name": "OrderID"
                                    },
                                    {
                                        "name": "CustomerID"
                                    },
                                    {
                                        "name": "OrderDate"
                                    },
                                    {
                                        "name": "OrderStatus"
                                    },
                                    {
                                        "name": "LatestExpectedDeliveryDate"
                                    }
                                ]
                            },
                            "data": [
                                {
                                    "0": "1",
                                    "1": "832",
                                    "2": "2013-01-01",
                                    "3": "Ready",
                                    "4": "2013-01-02"
                                },
                                {
                                    "0": "2",
                                    "1": "803",
                                    "2": "2013-01-01",
                                    "3": "Ready",
                                    "4": "2013-01-02"
                                },
                                {
                                    "0": "3",
                                    "1": "105",
                                    "2": "2013-01-01",
                                    "3": "Ready",
                                    "4": "2013-01-02"
                                },
                                {
                                    "0": "4",
                                    "1": "57",
                                    "2": "2013-01-01",
                                    "3": "BackOrdered",
                                    "4": "2013-01-02"
                                },
                                {
                                    "0": "5",
                                    "1": "905",
                                    "2": "2013-01-01",
                                    "3": "Ready",
                                    "4": "2013-01-02"
                                },
                                {
                                    "0": "6",
                                    "1": "976",
                                    "2": "2013-01-01",
                                    "3": "BackOrdered",
                                    "4": "2013-01-02"
                                },
                                {
                                    "0": "7",
                                    "1": "575",
                                    "2": "2013-01-01",
                                    "3": "Ready",
                                    "4": "2013-01-02"
                                },
                                {
                                    "0": "8",
                                    "1": "964",
                                    "2": "2013-01-01",
                                    "3": "Ready",
                                    "4": "2013-01-02"
                                },
                                {
                                    "0": "9",
                                    "1": "77",
                                    "2": "2013-01-01",
                                    "3": "Ready",
                                    "4": "2013-01-02"
                                },
                                {
                                    "0": "10",
                                    "1": "191",
                                    "2": "2013-01-01",
                                    "3": "Ready",
                                    "4": "2013-01-02"
                                },
                                {
                                    "0": "11",
                                    "1": "586",
                                    "2": "2013-01-01",
                                    "3": "Ready",
                                    "4": "2013-01-02"
                                },
                                {
                                    "0": "12",
                                    "1": "529",
                                    "2": "2013-01-01",
                                    "3": "Ready",
                                    "4": "2013-01-02"
                                },
                                {
                                    "0": "13",
                                    "1": "473",
                                    "2": "2013-01-01",
                                    "3": "Ready",
                                    "4": "2013-01-02"
                                },
                                {
                                    "0": "14",
                                    "1": "870",
                                    "2": "2013-01-01",
                                    "3": "Ready",
                                    "4": "2013-01-02"
                                },
                                {
                                    "0": "15",
                                    "1": "991",
                                    "2": "2013-01-01",
                                    "3": "BackOrdered",
                                    "4": "2013-01-02"
                                },
                                {
                                    "0": "16",
                                    "1": "414",
                                    "2": "2013-01-01",
                                    "3": "Ready",
                                    "4": "2013-01-02"
                                },
                                {
                                    "0": "17",
                                    "1": "910",
                                    "2": "2013-01-01",
                                    "3": "Ready",
                                    "4": "2013-01-02"
                                },
                                {
                                    "0": "18",
                                    "1": "423",
                                    "2": "2013-01-01",
                                    "3": "BackOrdered",
                                    "4": "2013-01-02"
                                },
                                {
                                    "0": "19",
                                    "1": "949",
                                    "2": "2013-01-01",
                                    "3": "Ready",
                                    "4": "2013-01-02"
                                },
                                {
                                    "0": "20",
                                    "1": "973",
                                    "2": "2013-01-01",
                                    "3": "Ready",
                                    "4": "2013-01-02"
                                },
                                {
                                    "0": "21",
                                    "1": "463",
                                    "2": "2013-01-01",
                                    "3": "BackOrdered",
                                    "4": "2013-01-02"
                                },
                                {
                                    "0": "22",
                                    "1": "884",
                                    "2": "2013-01-01",
                                    "3": "Ready",
                                    "4": "2013-01-02"
                                },
                                {
                                    "0": "23",
                                    "1": "173",
                                    "2": "2013-01-01",
                                    "3": "Ready",
                                    "4": "2013-01-02"
                                },
                                {
                                    "0": "24",
                                    "1": "890",
                                    "2": "2013-01-01",
                                    "3": "BackOrdered",
                                    "4": "2013-01-02"
                                },
                                {
                                    "0": "25",
                                    "1": "189",
                                    "2": "2013-01-01",
                                    "3": "Ready",
                                    "4": "2013-01-02"
                                },
                                {
                                    "0": "26",
                                    "1": "873",
                                    "2": "2013-01-01",
                                    "3": "BackOrdered",
                                    "4": "2013-01-02"
                                },
                                {
                                    "0": "27",
                                    "1": "497",
                                    "2": "2013-01-01",
                                    "3": "Ready",
                                    "4": "2013-01-02"
                                },
                                {
                                    "0": "28",
                                    "1": "484",
                                    "2": "2013-01-01",
                                    "3": "Ready",
                                    "4": "2013-01-02"
                                },
                                {
                                    "0": "29",
                                    "1": "89",
                                    "2": "2013-01-01",
                                    "3": "Ready",
                                    "4": "2013-01-02"
                                },
                                {
                                    "0": "30",
                                    "1": "148",
                                    "2": "2013-01-01",
                                    "3": "Ready",
                                    "4": "2013-01-02"
                                },
                                {
                                    "0": "31",
                                    "1": "467",
                                    "2": "2013-01-01",
                                    "3": "BackOrdered",
                                    "4": "2013-01-02"
                                },
                                {
                                    "0": "32",
                                    "1": "972",
                                    "2": "2013-01-01",
                                    "3": "Ready",
                                    "4": "2013-01-02"
                                },
                                {
                                    "0": "33",
                                    "1": "567",
                                    "2": "2013-01-01",
                                    "3": "Ready",
                                    "4": "2013-01-02"
                                },
                                {
                                    "0": "34",
                                    "1": "92",
                                    "2": "2013-01-01",
                                    "3": "Ready",
                                    "4": "2013-01-02"
                                },
                                {
                                    "0": "35",
                                    "1": "811",
                                    "2": "2013-01-01",
                                    "3": "Ready",
                                    "4": "2013-01-02"
                                },
                                {
                                    "0": "36",
                                    "1": "10",
                                    "2": "2013-01-01",
                                    "3": "Ready",
                                    "4": "2013-01-02"
                                },
                                {
                                    "0": "37",
                                    "1": "862",
                                    "2": "2013-01-01",
                                    "3": "BackOrdered",
                                    "4": "2013-01-02"
                                },
                                {
                                    "0": "38",
                                    "1": "431",
                                    "2": "2013-01-01",
                                    "3": "Ready",
                                    "4": "2013-01-02"
                                },
                                {
                                    "0": "39",
                                    "1": "908",
                                    "2": "2013-01-01",
                                    "3": "Ready",
                                    "4": "2013-01-02"
                                },
                                {
                                    "0": "40",
                                    "1": "995",
                                    "2": "2013-01-01",
                                    "3": "Ready",
                                    "4": "2013-01-02"
                                },
                                {
                                    "0": "41",
                                    "1": "910",
                                    "2": "2013-01-01",
                                    "3": "Ready",
                                    "4": "2013-01-02"
                                },
                                {
                                    "0": "42",
                                    "1": "545",
                                    "2": "2013-01-01",
                                    "3": "Ready",
                                    "4": "2013-01-02"
                                },
                                {
                                    "0": "43",
                                    "1": "1000",
                                    "2": "2013-01-01",
                                    "3": "Ready",
                                    "4": "2013-01-02"
                                },
                                {
                                    "0": "44",
                                    "1": "415",
                                    "2": "2013-01-01",
                                    "3": "Ready",
                                    "4": "2013-01-02"
                                },
                                {
                                    "0": "45",
                                    "1": "832",
                                    "2": "2013-01-01",
                                    "3": "BackOrdered",
                                    "4": "2013-01-02"
                                },
                                {
                                    "0": "46",
                                    "1": "803",
                                    "2": "2013-01-01",
                                    "3": "BackOrdered",
                                    "4": "2013-01-02"
                                },
                                {
                                    "0": "47",
                                    "1": "105",
                                    "2": "2013-01-01",
                                    "3": "BackOrdered",
                                    "4": "2013-01-02"
                                },
                                {
                                    "0": "48",
                                    "1": "905",
                                    "2": "2013-01-01",
                                    "3": "BackOrdered",
                                    "4": "2013-01-02"
                                },
                                {
                                    "0": "49",
                                    "1": "575",
                                    "2": "2013-01-01",
                                    "3": "BackOrdered",
                                    "4": "2013-01-02"
                                },
                                {
                                    "0": "50",
                                    "1": "964",
                                    "2": "2013-01-01",
                                    "3": "BackOrdered",
                                    "4": "2013-01-02"
                                },
                                {
                                    "0": "51",
                                    "1": "77",
                                    "2": "2013-01-01",
                                    "3": "BackOrdered",
                                    "4": "2013-01-02"
                                },
                                {
                                    "0": "52",
                                    "1": "191",
                                    "2": "2013-01-01",
                                    "3": "BackOrdered",
                                    "4": "2013-01-02"
                                },
                                {
                                    "0": "53",
                                    "1": "586",
                                    "2": "2013-01-01",
                                    "3": "BackOrdered",
                                    "4": "2013-01-02"
                                },
                                {
                                    "0": "54",
                                    "1": "529",
                                    "2": "2013-01-01",
                                    "3": "BackOrdered",
                                    "4": "2013-01-02"
                                },
                                {
                                    "0": "55",
                                    "1": "473",
                                    "2": "2013-01-01",
                                    "3": "BackOrdered",
                                    "4": "2013-01-02"
                                },
                                {
                                    "0": "56",
                                    "1": "870",
                                    "2": "2013-01-01",
                                    "3": "BackOrdered",
                                    "4": "2013-01-02"
                                },
                                {
                                    "0": "57",
                                    "1": "414",
                                    "2": "2013-01-01",
                                    "3": "BackOrdered",
                                    "4": "2013-01-02"
                                },
                                {
                                    "0": "58",
                                    "1": "910",
                                    "2": "2013-01-01",
                                    "3": "BackOrdered",
                                    "4": "2013-01-02"
                                },
                                {
                                    "0": "59",
                                    "1": "949",
                                    "2": "2013-01-01",
                                    "3": "BackOrdered",
                                    "4": "2013-01-02"
                                },
                                {
                                    "0": "60",
                                    "1": "973",
                                    "2": "2013-01-01",
                                    "3": "BackOrdered",
                                    "4": "2013-01-02"
                                },
                                {
                                    "0": "61",
                                    "1": "884",
                                    "2": "2013-01-01",
                                    "3": "BackOrdered",
                                    "4": "2013-01-02"
                                },
                                {
                                    "0": "62",
                                    "1": "173",
                                    "2": "2013-01-01",
                                    "3": "BackOrdered",
                                    "4": "2013-01-02"
                                },
                                {
                                    "0": "63",
                                    "1": "189",
                                    "2": "2013-01-01",
                                    "3": "BackOrdered",
                                    "4": "2013-01-02"
                                },
                                {
                                    "0": "64",
                                    "1": "497",
                                    "2": "2013-01-01",
                                    "3": "BackOrdered",
                                    "4": "2013-01-02"
                                },
                                {
                                    "0": "65",
                                    "1": "484",
                                    "2": "2013-01-01",
                                    "3": "BackOrdered",
                                    "4": "2013-01-02"
                                },
                                {
                                    "0": "66",
                                    "1": "89",
                                    "2": "2013-01-01",
                                    "3": "BackOrdered",
                                    "4": "2013-01-02"
                                },
                                {
                                    "0": "67",
                                    "1": "148",
                                    "2": "2013-01-01",
                                    "3": "BackOrdered",
                                    "4": "2013-01-02"
                                },
                                {
                                    "0": "68",
                                    "1": "972",
                                    "2": "2013-01-01",
                                    "3": "BackOrdered",
                                    "4": "2013-01-02"
                                },
                                {
                                    "0": "69",
                                    "1": "567",
                                    "2": "2013-01-01",
                                    "3": "BackOrdered",
                                    "4": "2013-01-02"
                                },
                                {
                                    "0": "70",
                                    "1": "92",
                                    "2": "2013-01-01",
                                    "3": "BackOrdered",
                                    "4": "2013-01-02"
                                },
                                {
                                    "0": "71",
                                    "1": "811",
                                    "2": "2013-01-01",
                                    "3": "BackOrdered",
                                    "4": "2013-01-02"
                                },
                                {
                                    "0": "72",
                                    "1": "10",
                                    "2": "2013-01-01",
                                    "3": "BackOrdered",
                                    "4": "2013-01-02"
                                },
                                {
                                    "0": "73",
                                    "1": "431",
                                    "2": "2013-01-01",
                                    "3": "BackOrdered",
                                    "4": "2013-01-02"
                                },
                                {
                                    "0": "74",
                                    "1": "908",
                                    "2": "2013-01-01",
                                    "3": "BackOrdered",
                                    "4": "2013-01-02"
                                },
                                {
                                    "0": "75",
                                    "1": "995",
                                    "2": "2013-01-01",
                                    "3": "BackOrdered",
                                    "4": "2013-01-02"
                                },
                                {
                                    "0": "76",
                                    "1": "910",
                                    "2": "2013-01-01",
                                    "3": "BackOrdered",
                                    "4": "2013-01-02"
                                },
                                {
                                    "0": "77",
                                    "1": "545",
                                    "2": "2013-01-01",
                                    "3": "BackOrdered",
                                    "4": "2013-01-02"
                                },
                                {
                                    "0": "78",
                                    "1": "1000",
                                    "2": "2013-01-01",
                                    "3": "BackOrdered",
                                    "4": "2013-01-02"
                                },
                                {
                                    "0": "79",
                                    "1": "415",
                                    "2": "2013-01-01",
                                    "3": "BackOrdered",
                                    "4": "2013-01-02"
                                }
                            ]
                        },
                        "text/html": "<table><tr><th>OrderID</th><th>CustomerID</th><th>OrderDate</th><th>OrderStatus</th><th>LatestExpectedDeliveryDate</th></tr><tr><td>1</td><td>832</td><td>2013-01-01</td><td>Ready</td><td>2013-01-02</td></tr><tr><td>2</td><td>803</td><td>2013-01-01</td><td>Ready</td><td>2013-01-02</td></tr><tr><td>3</td><td>105</td><td>2013-01-01</td><td>Ready</td><td>2013-01-02</td></tr><tr><td>4</td><td>57</td><td>2013-01-01</td><td>BackOrdered</td><td>2013-01-02</td></tr><tr><td>5</td><td>905</td><td>2013-01-01</td><td>Ready</td><td>2013-01-02</td></tr><tr><td>6</td><td>976</td><td>2013-01-01</td><td>BackOrdered</td><td>2013-01-02</td></tr><tr><td>7</td><td>575</td><td>2013-01-01</td><td>Ready</td><td>2013-01-02</td></tr><tr><td>8</td><td>964</td><td>2013-01-01</td><td>Ready</td><td>2013-01-02</td></tr><tr><td>9</td><td>77</td><td>2013-01-01</td><td>Ready</td><td>2013-01-02</td></tr><tr><td>10</td><td>191</td><td>2013-01-01</td><td>Ready</td><td>2013-01-02</td></tr><tr><td>11</td><td>586</td><td>2013-01-01</td><td>Ready</td><td>2013-01-02</td></tr><tr><td>12</td><td>529</td><td>2013-01-01</td><td>Ready</td><td>2013-01-02</td></tr><tr><td>13</td><td>473</td><td>2013-01-01</td><td>Ready</td><td>2013-01-02</td></tr><tr><td>14</td><td>870</td><td>2013-01-01</td><td>Ready</td><td>2013-01-02</td></tr><tr><td>15</td><td>991</td><td>2013-01-01</td><td>BackOrdered</td><td>2013-01-02</td></tr><tr><td>16</td><td>414</td><td>2013-01-01</td><td>Ready</td><td>2013-01-02</td></tr><tr><td>17</td><td>910</td><td>2013-01-01</td><td>Ready</td><td>2013-01-02</td></tr><tr><td>18</td><td>423</td><td>2013-01-01</td><td>BackOrdered</td><td>2013-01-02</td></tr><tr><td>19</td><td>949</td><td>2013-01-01</td><td>Ready</td><td>2013-01-02</td></tr><tr><td>20</td><td>973</td><td>2013-01-01</td><td>Ready</td><td>2013-01-02</td></tr><tr><td>21</td><td>463</td><td>2013-01-01</td><td>BackOrdered</td><td>2013-01-02</td></tr><tr><td>22</td><td>884</td><td>2013-01-01</td><td>Ready</td><td>2013-01-02</td></tr><tr><td>23</td><td>173</td><td>2013-01-01</td><td>Ready</td><td>2013-01-02</td></tr><tr><td>24</td><td>890</td><td>2013-01-01</td><td>BackOrdered</td><td>2013-01-02</td></tr><tr><td>25</td><td>189</td><td>2013-01-01</td><td>Ready</td><td>2013-01-02</td></tr><tr><td>26</td><td>873</td><td>2013-01-01</td><td>BackOrdered</td><td>2013-01-02</td></tr><tr><td>27</td><td>497</td><td>2013-01-01</td><td>Ready</td><td>2013-01-02</td></tr><tr><td>28</td><td>484</td><td>2013-01-01</td><td>Ready</td><td>2013-01-02</td></tr><tr><td>29</td><td>89</td><td>2013-01-01</td><td>Ready</td><td>2013-01-02</td></tr><tr><td>30</td><td>148</td><td>2013-01-01</td><td>Ready</td><td>2013-01-02</td></tr><tr><td>31</td><td>467</td><td>2013-01-01</td><td>BackOrdered</td><td>2013-01-02</td></tr><tr><td>32</td><td>972</td><td>2013-01-01</td><td>Ready</td><td>2013-01-02</td></tr><tr><td>33</td><td>567</td><td>2013-01-01</td><td>Ready</td><td>2013-01-02</td></tr><tr><td>34</td><td>92</td><td>2013-01-01</td><td>Ready</td><td>2013-01-02</td></tr><tr><td>35</td><td>811</td><td>2013-01-01</td><td>Ready</td><td>2013-01-02</td></tr><tr><td>36</td><td>10</td><td>2013-01-01</td><td>Ready</td><td>2013-01-02</td></tr><tr><td>37</td><td>862</td><td>2013-01-01</td><td>BackOrdered</td><td>2013-01-02</td></tr><tr><td>38</td><td>431</td><td>2013-01-01</td><td>Ready</td><td>2013-01-02</td></tr><tr><td>39</td><td>908</td><td>2013-01-01</td><td>Ready</td><td>2013-01-02</td></tr><tr><td>40</td><td>995</td><td>2013-01-01</td><td>Ready</td><td>2013-01-02</td></tr><tr><td>41</td><td>910</td><td>2013-01-01</td><td>Ready</td><td>2013-01-02</td></tr><tr><td>42</td><td>545</td><td>2013-01-01</td><td>Ready</td><td>2013-01-02</td></tr><tr><td>43</td><td>1000</td><td>2013-01-01</td><td>Ready</td><td>2013-01-02</td></tr><tr><td>44</td><td>415</td><td>2013-01-01</td><td>Ready</td><td>2013-01-02</td></tr><tr><td>45</td><td>832</td><td>2013-01-01</td><td>BackOrdered</td><td>2013-01-02</td></tr><tr><td>46</td><td>803</td><td>2013-01-01</td><td>BackOrdered</td><td>2013-01-02</td></tr><tr><td>47</td><td>105</td><td>2013-01-01</td><td>BackOrdered</td><td>2013-01-02</td></tr><tr><td>48</td><td>905</td><td>2013-01-01</td><td>BackOrdered</td><td>2013-01-02</td></tr><tr><td>49</td><td>575</td><td>2013-01-01</td><td>BackOrdered</td><td>2013-01-02</td></tr><tr><td>50</td><td>964</td><td>2013-01-01</td><td>BackOrdered</td><td>2013-01-02</td></tr><tr><td>51</td><td>77</td><td>2013-01-01</td><td>BackOrdered</td><td>2013-01-02</td></tr><tr><td>52</td><td>191</td><td>2013-01-01</td><td>BackOrdered</td><td>2013-01-02</td></tr><tr><td>53</td><td>586</td><td>2013-01-01</td><td>BackOrdered</td><td>2013-01-02</td></tr><tr><td>54</td><td>529</td><td>2013-01-01</td><td>BackOrdered</td><td>2013-01-02</td></tr><tr><td>55</td><td>473</td><td>2013-01-01</td><td>BackOrdered</td><td>2013-01-02</td></tr><tr><td>56</td><td>870</td><td>2013-01-01</td><td>BackOrdered</td><td>2013-01-02</td></tr><tr><td>57</td><td>414</td><td>2013-01-01</td><td>BackOrdered</td><td>2013-01-02</td></tr><tr><td>58</td><td>910</td><td>2013-01-01</td><td>BackOrdered</td><td>2013-01-02</td></tr><tr><td>59</td><td>949</td><td>2013-01-01</td><td>BackOrdered</td><td>2013-01-02</td></tr><tr><td>60</td><td>973</td><td>2013-01-01</td><td>BackOrdered</td><td>2013-01-02</td></tr><tr><td>61</td><td>884</td><td>2013-01-01</td><td>BackOrdered</td><td>2013-01-02</td></tr><tr><td>62</td><td>173</td><td>2013-01-01</td><td>BackOrdered</td><td>2013-01-02</td></tr><tr><td>63</td><td>189</td><td>2013-01-01</td><td>BackOrdered</td><td>2013-01-02</td></tr><tr><td>64</td><td>497</td><td>2013-01-01</td><td>BackOrdered</td><td>2013-01-02</td></tr><tr><td>65</td><td>484</td><td>2013-01-01</td><td>BackOrdered</td><td>2013-01-02</td></tr><tr><td>66</td><td>89</td><td>2013-01-01</td><td>BackOrdered</td><td>2013-01-02</td></tr><tr><td>67</td><td>148</td><td>2013-01-01</td><td>BackOrdered</td><td>2013-01-02</td></tr><tr><td>68</td><td>972</td><td>2013-01-01</td><td>BackOrdered</td><td>2013-01-02</td></tr><tr><td>69</td><td>567</td><td>2013-01-01</td><td>BackOrdered</td><td>2013-01-02</td></tr><tr><td>70</td><td>92</td><td>2013-01-01</td><td>BackOrdered</td><td>2013-01-02</td></tr><tr><td>71</td><td>811</td><td>2013-01-01</td><td>BackOrdered</td><td>2013-01-02</td></tr><tr><td>72</td><td>10</td><td>2013-01-01</td><td>BackOrdered</td><td>2013-01-02</td></tr><tr><td>73</td><td>431</td><td>2013-01-01</td><td>BackOrdered</td><td>2013-01-02</td></tr><tr><td>74</td><td>908</td><td>2013-01-01</td><td>BackOrdered</td><td>2013-01-02</td></tr><tr><td>75</td><td>995</td><td>2013-01-01</td><td>BackOrdered</td><td>2013-01-02</td></tr><tr><td>76</td><td>910</td><td>2013-01-01</td><td>BackOrdered</td><td>2013-01-02</td></tr><tr><td>77</td><td>545</td><td>2013-01-01</td><td>BackOrdered</td><td>2013-01-02</td></tr><tr><td>78</td><td>1000</td><td>2013-01-01</td><td>BackOrdered</td><td>2013-01-02</td></tr><tr><td>79</td><td>415</td><td>2013-01-01</td><td>BackOrdered</td><td>2013-01-02</td></tr></table>"
                    },
                    "metadata": {}
                }
            ],
            "execution_count": 5
        },
        {
            "cell_type": "markdown",
            "source": "<hr/>",
            "metadata": {}
        }
    ]
}