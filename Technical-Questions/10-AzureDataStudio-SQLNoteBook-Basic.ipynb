{
    "metadata": {
        "kernelspec": {
            "name": "SQL",
            "display_name": "SQL",
            "language": "sql"
        },
        "language_info": {
            "name": "sql",
            "version": ""
        }
    },
    "nbformat_minor": 2,
    "nbformat": 4,
    "cells": [
        {
            "cell_type": "markdown",
            "source": [
                "## Common Instructions\n",
                "You will need to **modify** the query below each question to satisfy the task.\n",
                "**Important**: Queries are only partially completed, they are to point you in the right direction but you are free to rewrite them.\n",
                "**What is evaluated ?**\n",
                "- Ability to understand the requirements and provide a correct result-set\n",
                "- Ordering is important _only if_ mentioned (_as some of this is evaluated automatically_).\n",
                "- Columns in resultset _only if_ specified (otherwise is insignificant)\n",
                "**Tables Used**\n",
                "- `Sales.Customers`\n",
                "- `Sales.CustomerCategories`"
            ],
            "metadata": {
                "azdata_cell_guid": "8090b23b-9b39-437a-93d6-ded19d6070fc"
            }
        },
        {
            "cell_type": "code",
            "source": [
                "USE WideWorldImporters;"
            ],
            "metadata": {
                "azdata_cell_guid": "d476ced8-6de1-4da6-9711-f3ea84c41b77"
            },
            "outputs": [],
            "execution_count": 10
        },
        {
            "cell_type": "markdown",
            "source": [
                "<hr />"
            ],
            "metadata": {
                "azdata_cell_guid": "6e87351b-63a5-4bc7-87b5-6a0c5a8f3e30"
            }
        },
        {
            "cell_type": "markdown",
            "source": [
                "`01-Q1`\n",
                "\n",
                "**Time Guideline**: 1 Minute\n",
                "\n",
                "**Task:** \n",
                "\n",
                "Return **10** customer accounts that were recently opened. Recently is defined by the `AccountOpenedDate` column, it is the date customer has opened the account."
            ],
            "metadata": {
                "azdata_cell_guid": "eddd12eb-a3e3-4689-8257-7f9178692f1a"
            }
        },
        {
            "cell_type": "code",
            "source": [
                "-- 10-01-Q1\r\n",
                "-- (SSMS) Save Filename as: 10-01-Q1.sql\r\n",
                "\r\n",
                "USE WideWorldImporters;\r\n",
                "\r\n",
                "SELECT \r\n",
                "       CustomerName\r\n",
                "     , PhoneNumber\r\n",
                "     , DeliveryAddressLine1\r\n",
                "     , DeliveryAddressLine2\r\n",
                "     , DeliveryPostalCode\r\n",
                "FROM Sales.Customers"
            ],
            "metadata": {
                "azdata_cell_guid": "12ccca4c-fbb9-410f-a78e-fa1c15293eb6"
            },
            "outputs": [],
            "execution_count": 11
        },
        {
            "cell_type": "markdown",
            "source": [
                "<hr/>"
            ],
            "metadata": {
                "azdata_cell_guid": "a8d05715-d855-4b3d-a3f4-b4a0effed25d"
            }
        },
        {
            "cell_type": "markdown",
            "source": [
                "`01-Q2`\n",
                "\n",
                "**Time Guideline**: 5 Minute\n",
                "\n",
                "**Task:**\n",
                "\n",
                "To return **10** `'Corporate'` customer accounts that were opened recently. The Table `Sales.CustomerCategories` contains a the various types of customers (`CustomerCategoryName)`"
            ],
            "metadata": {
                "azdata_cell_guid": "28358764-2eae-4c18-813a-e23f8dbf07ff"
            }
        },
        {
            "cell_type": "code",
            "source": [
                "-- 10-01-Q2\r\n",
                "-- (SSMS) Save Filename as: 10-01-Q2.sql\r\n",
                "\r\n",
                "USE WideWorldImporters;\r\n",
                "\r\n",
                "SELECT \r\n",
                "       CustomerName\r\n",
                "     , PhoneNumber\r\n",
                "     , DeliveryAddressLine1\r\n",
                "     , DeliveryAddressLine2\r\n",
                "     , DeliveryPostalCode\r\n",
                "FROM Sales.Customers\r\n",
                "-- Sales.CustomerCategories \r\n",
                "\r\n",
                ""
            ],
            "metadata": {
                "azdata_cell_guid": "4518436a-0ed3-4163-a0ab-8db9c0474e92"
            },
            "outputs": [],
            "execution_count": 12
        },
        {
            "cell_type": "markdown",
            "source": [
                "<hr />"
            ],
            "metadata": {
                "azdata_cell_guid": "1a93c538-a1f1-4af9-8b7e-bbf162700011"
            }
        },
        {
            "cell_type": "markdown",
            "source": [
                "`01-Q3`\n",
                "\n",
                "**Time Guideline**: 10 Minutes\n",
                "\n",
                "**Task:**\n",
                "\n",
                "To get an summary of, the number (`count`) of customers by Category."
            ],
            "metadata": {
                "azdata_cell_guid": "0fe7c030-0e51-42a7-a851-9d0a4bc132ca"
            }
        },
        {
            "cell_type": "code",
            "source": [
                "-- 01-Q3\r\n",
                "-- (SSMS) Save Filename as: 10-01-Q3.sql\r\n",
                "\r\n",
                "USE WideWorldImporters;\r\n",
                "\r\n",
                "SELECT \r\n",
                "       '!!Replace me with!! Column CustomerCategoryName From Sales.CustomerCategories' CustomerCategoryName\r\n",
                "\t   ,'ReplaceMe' AS CustomersCount\r\n",
                "FROM Sales.Customers\r\n",
                "-- Sales.CustomerCategories \r\n",
                "\r\n",
                ""
            ],
            "metadata": {
                "azdata_cell_guid": "4ad9fa77-398e-4783-919c-c7323582ce65"
            },
            "outputs": [],
            "execution_count": 13
        },
        {
            "cell_type": "markdown",
            "source": [
                "<hr />"
            ],
            "metadata": {
                "azdata_cell_guid": "ca67b12b-398a-4915-a7e1-49be427d21ea"
            }
        }
    ]
}