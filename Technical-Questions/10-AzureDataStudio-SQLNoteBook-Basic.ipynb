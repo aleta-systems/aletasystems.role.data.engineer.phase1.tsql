{
    "metadata": {
        "kernelspec": {
            "name": "SQL",
            "display_name": "SQL",
            "language": "sql"
        },
        "language_info": {
            "name": "sql",
            "version": ""
        }
    },
    "nbformat_minor": 2,
    "nbformat": 4,
    "cells": [
        {
            "cell_type": "markdown",
            "source": "## Common Instructions\r\n\r\nYou will need to **modify** the query below each question to satisfy the task. \r\n\r\n**Important**: Queries are only partialy completed, they are to point you in the right direction but you are free to rewrite them.\r\n\r\n**What is evaluated ?**\r\n- Ability to understand the requirements and proivide a correct result-set\r\n- Ordering is important _only if_ mentioned (_as some of this is evaluated automatically_).\r\n- Columns in resultset _only if_ specified (otherwise is insignificant)",
            "metadata": {}
        },
        {
            "cell_type": "code",
            "source": "USE WideWorldImporters;",
            "metadata": {},
            "outputs": [],
            "execution_count": 10
        },
        {
            "cell_type": "markdown",
            "source": "<hr />",
            "metadata": {}
        },
        {
            "cell_type": "markdown",
            "source": "`01-Q1`\r\n\r\n**Time Guideline**: 1 Minute\r\n\r\n**Task:** To return any **10** customer accounts that were opened recently. The `AccountOpenedDate` column is set to the date customer has opened the account.",
            "metadata": {}
        },
        {
            "cell_type": "code",
            "source": "-- 10-01-Q1\r\n-- (SSMS) Save Filename as: 10-01-Q1.sql\r\n\r\nUSE WideWorldImporters;\r\n\r\nSELECT \r\n       CustomerName\r\n     , PhoneNumber\r\n     , DeliveryAddressLine1\r\n     , DeliveryAddressLine2\r\n     , DeliveryPostalCode\r\nFROM Sales.Customers",
            "metadata": {},
            "outputs": [],
            "execution_count": 11
        },
        {
            "cell_type": "markdown",
            "source": "<hr/>",
            "metadata": {}
        },
        {
            "cell_type": "markdown",
            "source": "\r\n`01-Q2`\r\n\r\n**Time Guideline**: 5 Minute\r\n\r\n**Task** To return **10** `'Corporate'` customer accounts that were opened recently. The Table `Sales.CustomerCategories` contains `CustomerCategoryName`\r\n\r\n**Bonus Points**: If you were to use a variable/parameter what would the advantage/disavantage be _if any_.",
            "metadata": {}
        },
        {
            "cell_type": "code",
            "source": "-- 10-01-Q2\r\n-- (SSMS) Save Filename as: 10-01-Q2.sql\r\n\r\nUSE WideWorldImporters;\r\n\r\nSELECT \r\n       CustomerName\r\n     , PhoneNumber\r\n     , DeliveryAddressLine1\r\n     , DeliveryAddressLine2\r\n     , DeliveryPostalCode\r\nFROM Sales.Customers\r\n-- Sales.CustomerCategories \r\n\r\n",
            "metadata": {},
            "outputs": [],
            "execution_count": 12
        },
        {
            "cell_type": "markdown",
            "source": "<hr />",
            "metadata": {}
        },
        {
            "cell_type": "markdown",
            "source": "\r\n`01-Q3`\r\n\r\n**Time Guideline**: 10 Minutes\r\n\r\n> To return the number of customers (`CustomersCount`) in each `CustomerCategoryName`. The resultset must be ordered, with the category having the highest `CustomersCount` first.\r\n",
            "metadata": {}
        },
        {
            "cell_type": "code",
            "source": "-- 01-Q3\r\n-- (SSMS) Save Filename as: 10-01-Q3.sql\r\n\r\nUSE WideWorldImporters;\r\n\r\nSELECT \r\n       '!!Replace me with!! Column CustomerCategoryName From Sales.CustomerCategories' CustomerCategoryName\r\n\t   ,'ReplaceMe' AS CustomersCount\r\nFROM Sales.Customers\r\n-- Sales.CustomerCategories \r\n\r\n",
            "metadata": {},
            "outputs": [],
            "execution_count": 13
        },
        {
            "cell_type": "markdown",
            "source": "<hr />",
            "metadata": {}
        }
    ]
}