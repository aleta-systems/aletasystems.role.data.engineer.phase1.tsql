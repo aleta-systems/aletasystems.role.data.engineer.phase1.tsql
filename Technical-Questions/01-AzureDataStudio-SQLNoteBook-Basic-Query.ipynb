{
    "metadata": {
        "kernelspec": {
            "name": "SQL",
            "display_name": "SQL",
            "language": "sql"
        },
        "language_info": {
            "name": "sql",
            "version": ""
        }
    },
    "nbformat_minor": 2,
    "nbformat": 4,
    "cells": [
        {
            "cell_type": "code",
            "source": "USE WideWorldImporters;",
            "metadata": {},
            "outputs": [
                {
                    "output_type": "display_data",
                    "data": {
                        "text/html": "Commands completed successfully."
                    },
                    "metadata": {}
                },
                {
                    "output_type": "display_data",
                    "data": {
                        "text/html": "Total execution time: 00:00:00.061"
                    },
                    "metadata": {}
                }
            ],
            "execution_count": 1
        },
        {
            "cell_type": "markdown",
            "source": "## Q1: Delivery Time\r\n\r\nAs a Manager, I want to know how many **days** it takes for an order to be *expectedly* delivered. I would also like to be able to aggregate by OrderPeriod.\r\n\r\n### Task:\r\n\r\n- **Modify** the below query to \r\n    - Add a column called `ExpectedDaysToDelivery` that is the days between `OrderDate` & `ExpectedDeliveryDate`\r\n    - Add a column called `OrderPeriod` that is the 1st of the month.\r\n    - Add a column called `OrderPeriod` that is the 1st of the month.\r\n- **Validation**: `PurchaseOrderID = 7` is `20` Days.\r\n\r\n\r\n### Validation ResultSet \r\n\r\n|PurchaseOrderID|SupplierID|OrderPeriod|OrderDate|DeliveryMethodID|ExpectedDeliveryDate|SupplierReference|IsOrderFinalized|ExpectedDaysToDelivery|\r\n|-|-|-|-|-|-|-|-|-|\r\n|559|7|2013-12-01|2013-12-02|2|2013-12-22|BC0280982|1|20|\r\n|.|\r\n|563|7|2013-12-01|2013-12-04|2|2013-12-24|BC0280982|1|20|\r\n|.|\r\n|567|7|2013-12-01|2013-12-06|2|2013-12-26|BC0280982|1|20|\r\n\r\n\r\n",
            "metadata": {}
        },
        {
            "cell_type": "code",
            "source": "USE WideWorldImporters;\r\n\r\nSELECT\r\n    PurchaseOrderID\r\n  , SupplierID\r\n  , 'CHANGEME/FIXME' AS OrderPeriod\r\n  , OrderDate\r\n  , DeliveryMethodID\r\n  , ExpectedDeliveryDate\r\n  , SupplierReference\r\n  , IsOrderFinalized\r\n  , 'CHANGEME/FIXME' AS ExpectedDaysToDelivery\r\nFROM Purchasing.PurchaseOrders \r\nWHERE OrderDate BETWEEN '2013-12-01' AND '2014-02-01'\r\n;",
            "metadata": {},
            "outputs": [
                {
                    "output_type": "display_data",
                    "data": {
                        "text/html": "(101 rows affected)"
                    },
                    "metadata": {}
                },
                {
                    "output_type": "display_data",
                    "data": {
                        "text/html": "Total execution time: 00:00:00.152"
                    },
                    "metadata": {}
                },
                {
                    "output_type": "execute_result",
                    "metadata": {},
                    "execution_count": 2,
                    "data": {
                        "application/vnd.dataresource+json": {
                            "schema": {
                                "fields": [
                                    {
                                        "name": "PurchaseOrderID"
                                    },
                                    {
                                        "name": "SupplierID"
                                    },
                                    {
                                        "name": "OrderPeriod"
                                    },
                                    {
                                        "name": "OrderDate"
                                    },
                                    {
                                        "name": "DeliveryMethodID"
                                    },
                                    {
                                        "name": "ExpectedDeliveryDate"
                                    },
                                    {
                                        "name": "SupplierReference"
                                    },
                                    {
                                        "name": "IsOrderFinalized"
                                    },
                                    {
                                        "name": "ExpectedDaysToDelivery"
                                    }
                                ]
                            },
                            "data": [
                                {
                                    "0": "558",
                                    "1": "4",
                                    "2": "CHANGEME/FIXME",
                                    "3": "2013-12-02",
                                    "4": "7",
                                    "5": "2013-12-22",
                                    "6": "293092",
                                    "7": "1",
                                    "8": "CHANGEME/FIXME"
                                },
                                {
                                    "0": "559",
                                    "1": "7",
                                    "2": "CHANGEME/FIXME",
                                    "3": "2013-12-02",
                                    "4": "2",
                                    "5": "2013-12-22",
                                    "6": "BC0280982",
                                    "7": "1",
                                    "8": "CHANGEME/FIXME"
                                },
                                {
                                    "0": "560",
                                    "1": "4",
                                    "2": "CHANGEME/FIXME",
                                    "3": "2013-12-03",
                                    "4": "7",
                                    "5": "2013-12-23",
                                    "6": "293092",
                                    "7": "1",
                                    "8": "CHANGEME/FIXME"
                                },
                                {
                                    "0": "561",
                                    "1": "7",
                                    "2": "CHANGEME/FIXME",
                                    "3": "2013-12-03",
                                    "4": "2",
                                    "5": "2013-12-23",
                                    "6": "BC0280982",
                                    "7": "1",
                                    "8": "CHANGEME/FIXME"
                                },
                                {
                                    "0": "562",
                                    "1": "4",
                                    "2": "CHANGEME/FIXME",
                                    "3": "2013-12-04",
                                    "4": "7",
                                    "5": "2013-12-24",
                                    "6": "293092",
                                    "7": "1",
                                    "8": "CHANGEME/FIXME"
                                },
                                {
                                    "0": "563",
                                    "1": "7",
                                    "2": "CHANGEME/FIXME",
                                    "3": "2013-12-04",
                                    "4": "2",
                                    "5": "2013-12-24",
                                    "6": "BC0280982",
                                    "7": "1",
                                    "8": "CHANGEME/FIXME"
                                },
                                {
                                    "0": "564",
                                    "1": "4",
                                    "2": "CHANGEME/FIXME",
                                    "3": "2013-12-05",
                                    "4": "7",
                                    "5": "2013-12-25",
                                    "6": "293092",
                                    "7": "1",
                                    "8": "CHANGEME/FIXME"
                                },
                                {
                                    "0": "565",
                                    "1": "7",
                                    "2": "CHANGEME/FIXME",
                                    "3": "2013-12-05",
                                    "4": "2",
                                    "5": "2013-12-25",
                                    "6": "BC0280982",
                                    "7": "1",
                                    "8": "CHANGEME/FIXME"
                                },
                                {
                                    "0": "566",
                                    "1": "4",
                                    "2": "CHANGEME/FIXME",
                                    "3": "2013-12-06",
                                    "4": "7",
                                    "5": "2013-12-26",
                                    "6": "293092",
                                    "7": "1",
                                    "8": "CHANGEME/FIXME"
                                },
                                {
                                    "0": "567",
                                    "1": "7",
                                    "2": "CHANGEME/FIXME",
                                    "3": "2013-12-06",
                                    "4": "2",
                                    "5": "2013-12-26",
                                    "6": "BC0280982",
                                    "7": "1",
                                    "8": "CHANGEME/FIXME"
                                },
                                {
                                    "0": "568",
                                    "1": "4",
                                    "2": "CHANGEME/FIXME",
                                    "3": "2013-12-09",
                                    "4": "7",
                                    "5": "2013-12-29",
                                    "6": "293092",
                                    "7": "1",
                                    "8": "CHANGEME/FIXME"
                                },
                                {
                                    "0": "569",
                                    "1": "7",
                                    "2": "CHANGEME/FIXME",
                                    "3": "2013-12-09",
                                    "4": "2",
                                    "5": "2013-12-29",
                                    "6": "BC0280982",
                                    "7": "1",
                                    "8": "CHANGEME/FIXME"
                                },
                                {
                                    "0": "570",
                                    "1": "4",
                                    "2": "CHANGEME/FIXME",
                                    "3": "2013-12-10",
                                    "4": "7",
                                    "5": "2013-12-30",
                                    "6": "293092",
                                    "7": "1",
                                    "8": "CHANGEME/FIXME"
                                },
                                {
                                    "0": "571",
                                    "1": "7",
                                    "2": "CHANGEME/FIXME",
                                    "3": "2013-12-10",
                                    "4": "2",
                                    "5": "2013-12-30",
                                    "6": "BC0280982",
                                    "7": "1",
                                    "8": "CHANGEME/FIXME"
                                },
                                {
                                    "0": "572",
                                    "1": "4",
                                    "2": "CHANGEME/FIXME",
                                    "3": "2013-12-11",
                                    "4": "7",
                                    "5": "2013-12-31",
                                    "6": "293092",
                                    "7": "1",
                                    "8": "CHANGEME/FIXME"
                                },
                                {
                                    "0": "573",
                                    "1": "7",
                                    "2": "CHANGEME/FIXME",
                                    "3": "2013-12-11",
                                    "4": "2",
                                    "5": "2013-12-31",
                                    "6": "BC0280982",
                                    "7": "1",
                                    "8": "CHANGEME/FIXME"
                                },
                                {
                                    "0": "574",
                                    "1": "4",
                                    "2": "CHANGEME/FIXME",
                                    "3": "2013-12-12",
                                    "4": "7",
                                    "5": "2014-01-01",
                                    "6": "293092",
                                    "7": "1",
                                    "8": "CHANGEME/FIXME"
                                },
                                {
                                    "0": "575",
                                    "1": "7",
                                    "2": "CHANGEME/FIXME",
                                    "3": "2013-12-12",
                                    "4": "2",
                                    "5": "2014-01-01",
                                    "6": "BC0280982",
                                    "7": "1",
                                    "8": "CHANGEME/FIXME"
                                },
                                {
                                    "0": "576",
                                    "1": "4",
                                    "2": "CHANGEME/FIXME",
                                    "3": "2013-12-13",
                                    "4": "7",
                                    "5": "2014-01-02",
                                    "6": "293092",
                                    "7": "1",
                                    "8": "CHANGEME/FIXME"
                                },
                                {
                                    "0": "577",
                                    "1": "7",
                                    "2": "CHANGEME/FIXME",
                                    "3": "2013-12-13",
                                    "4": "2",
                                    "5": "2014-01-02",
                                    "6": "BC0280982",
                                    "7": "1",
                                    "8": "CHANGEME/FIXME"
                                },
                                {
                                    "0": "578",
                                    "1": "4",
                                    "2": "CHANGEME/FIXME",
                                    "3": "2013-12-14",
                                    "4": "7",
                                    "5": "2013-12-21",
                                    "6": "293092",
                                    "7": "1",
                                    "8": "CHANGEME/FIXME"
                                },
                                {
                                    "0": "579",
                                    "1": "4",
                                    "2": "CHANGEME/FIXME",
                                    "3": "2013-12-16",
                                    "4": "7",
                                    "5": "2014-01-05",
                                    "6": "293092",
                                    "7": "1",
                                    "8": "CHANGEME/FIXME"
                                },
                                {
                                    "0": "580",
                                    "1": "7",
                                    "2": "CHANGEME/FIXME",
                                    "3": "2013-12-16",
                                    "4": "2",
                                    "5": "2014-01-05",
                                    "6": "BC0280982",
                                    "7": "1",
                                    "8": "CHANGEME/FIXME"
                                },
                                {
                                    "0": "581",
                                    "1": "4",
                                    "2": "CHANGEME/FIXME",
                                    "3": "2013-12-17",
                                    "4": "7",
                                    "5": "2014-01-06",
                                    "6": "293092",
                                    "7": "1",
                                    "8": "CHANGEME/FIXME"
                                },
                                {
                                    "0": "582",
                                    "1": "7",
                                    "2": "CHANGEME/FIXME",
                                    "3": "2013-12-17",
                                    "4": "2",
                                    "5": "2014-01-06",
                                    "6": "BC0280982",
                                    "7": "1",
                                    "8": "CHANGEME/FIXME"
                                },
                                {
                                    "0": "583",
                                    "1": "4",
                                    "2": "CHANGEME/FIXME",
                                    "3": "2013-12-18",
                                    "4": "7",
                                    "5": "2014-01-07",
                                    "6": "293092",
                                    "7": "1",
                                    "8": "CHANGEME/FIXME"
                                },
                                {
                                    "0": "584",
                                    "1": "7",
                                    "2": "CHANGEME/FIXME",
                                    "3": "2013-12-18",
                                    "4": "2",
                                    "5": "2014-01-07",
                                    "6": "BC0280982",
                                    "7": "1",
                                    "8": "CHANGEME/FIXME"
                                },
                                {
                                    "0": "585",
                                    "1": "4",
                                    "2": "CHANGEME/FIXME",
                                    "3": "2013-12-19",
                                    "4": "7",
                                    "5": "2014-01-08",
                                    "6": "293092",
                                    "7": "1",
                                    "8": "CHANGEME/FIXME"
                                },
                                {
                                    "0": "586",
                                    "1": "7",
                                    "2": "CHANGEME/FIXME",
                                    "3": "2013-12-19",
                                    "4": "2",
                                    "5": "2014-01-08",
                                    "6": "BC0280982",
                                    "7": "1",
                                    "8": "CHANGEME/FIXME"
                                },
                                {
                                    "0": "587",
                                    "1": "4",
                                    "2": "CHANGEME/FIXME",
                                    "3": "2013-12-20",
                                    "4": "7",
                                    "5": "2014-01-09",
                                    "6": "293092",
                                    "7": "1",
                                    "8": "CHANGEME/FIXME"
                                },
                                {
                                    "0": "588",
                                    "1": "7",
                                    "2": "CHANGEME/FIXME",
                                    "3": "2013-12-20",
                                    "4": "2",
                                    "5": "2014-01-09",
                                    "6": "BC0280982",
                                    "7": "1",
                                    "8": "CHANGEME/FIXME"
                                },
                                {
                                    "0": "589",
                                    "1": "4",
                                    "2": "CHANGEME/FIXME",
                                    "3": "2013-12-21",
                                    "4": "7",
                                    "5": "2014-01-10",
                                    "6": "293092",
                                    "7": "1",
                                    "8": "CHANGEME/FIXME"
                                },
                                {
                                    "0": "590",
                                    "1": "7",
                                    "2": "CHANGEME/FIXME",
                                    "3": "2013-12-21",
                                    "4": "2",
                                    "5": "2014-01-10",
                                    "6": "BC0280982",
                                    "7": "1",
                                    "8": "CHANGEME/FIXME"
                                },
                                {
                                    "0": "591",
                                    "1": "4",
                                    "2": "CHANGEME/FIXME",
                                    "3": "2013-12-23",
                                    "4": "7",
                                    "5": "2014-01-12",
                                    "6": "293092",
                                    "7": "1",
                                    "8": "CHANGEME/FIXME"
                                },
                                {
                                    "0": "592",
                                    "1": "7",
                                    "2": "CHANGEME/FIXME",
                                    "3": "2013-12-23",
                                    "4": "2",
                                    "5": "2014-01-12",
                                    "6": "BC0280982",
                                    "7": "1",
                                    "8": "CHANGEME/FIXME"
                                },
                                {
                                    "0": "593",
                                    "1": "4",
                                    "2": "CHANGEME/FIXME",
                                    "3": "2013-12-24",
                                    "4": "7",
                                    "5": "2014-01-13",
                                    "6": "293092",
                                    "7": "1",
                                    "8": "CHANGEME/FIXME"
                                },
                                {
                                    "0": "594",
                                    "1": "7",
                                    "2": "CHANGEME/FIXME",
                                    "3": "2013-12-24",
                                    "4": "2",
                                    "5": "2014-01-13",
                                    "6": "BC0280982",
                                    "7": "1",
                                    "8": "CHANGEME/FIXME"
                                },
                                {
                                    "0": "595",
                                    "1": "4",
                                    "2": "CHANGEME/FIXME",
                                    "3": "2013-12-25",
                                    "4": "7",
                                    "5": "2014-01-14",
                                    "6": "293092",
                                    "7": "1",
                                    "8": "CHANGEME/FIXME"
                                },
                                {
                                    "0": "596",
                                    "1": "7",
                                    "2": "CHANGEME/FIXME",
                                    "3": "2013-12-25",
                                    "4": "2",
                                    "5": "2014-01-14",
                                    "6": "BC0280982",
                                    "7": "1",
                                    "8": "CHANGEME/FIXME"
                                },
                                {
                                    "0": "597",
                                    "1": "4",
                                    "2": "CHANGEME/FIXME",
                                    "3": "2013-12-26",
                                    "4": "7",
                                    "5": "2014-01-15",
                                    "6": "293092",
                                    "7": "1",
                                    "8": "CHANGEME/FIXME"
                                },
                                {
                                    "0": "598",
                                    "1": "7",
                                    "2": "CHANGEME/FIXME",
                                    "3": "2013-12-26",
                                    "4": "2",
                                    "5": "2014-01-15",
                                    "6": "BC0280982",
                                    "7": "1",
                                    "8": "CHANGEME/FIXME"
                                },
                                {
                                    "0": "599",
                                    "1": "4",
                                    "2": "CHANGEME/FIXME",
                                    "3": "2013-12-27",
                                    "4": "7",
                                    "5": "2014-01-16",
                                    "6": "293092",
                                    "7": "1",
                                    "8": "CHANGEME/FIXME"
                                },
                                {
                                    "0": "600",
                                    "1": "7",
                                    "2": "CHANGEME/FIXME",
                                    "3": "2013-12-27",
                                    "4": "2",
                                    "5": "2014-01-16",
                                    "6": "BC0280982",
                                    "7": "1",
                                    "8": "CHANGEME/FIXME"
                                },
                                {
                                    "0": "601",
                                    "1": "4",
                                    "2": "CHANGEME/FIXME",
                                    "3": "2013-12-28",
                                    "4": "7",
                                    "5": "2014-01-04",
                                    "6": "293092",
                                    "7": "1",
                                    "8": "CHANGEME/FIXME"
                                },
                                {
                                    "0": "602",
                                    "1": "4",
                                    "2": "CHANGEME/FIXME",
                                    "3": "2013-12-30",
                                    "4": "7",
                                    "5": "2014-01-19",
                                    "6": "293092",
                                    "7": "1",
                                    "8": "CHANGEME/FIXME"
                                },
                                {
                                    "0": "603",
                                    "1": "7",
                                    "2": "CHANGEME/FIXME",
                                    "3": "2013-12-30",
                                    "4": "2",
                                    "5": "2014-01-19",
                                    "6": "BC0280982",
                                    "7": "1",
                                    "8": "CHANGEME/FIXME"
                                },
                                {
                                    "0": "604",
                                    "1": "4",
                                    "2": "CHANGEME/FIXME",
                                    "3": "2013-12-31",
                                    "4": "7",
                                    "5": "2014-01-20",
                                    "6": "293092",
                                    "7": "1",
                                    "8": "CHANGEME/FIXME"
                                },
                                {
                                    "0": "605",
                                    "1": "7",
                                    "2": "CHANGEME/FIXME",
                                    "3": "2013-12-31",
                                    "4": "2",
                                    "5": "2014-01-20",
                                    "6": "BC0280982",
                                    "7": "1",
                                    "8": "CHANGEME/FIXME"
                                },
                                {
                                    "0": "606",
                                    "1": "4",
                                    "2": "CHANGEME/FIXME",
                                    "3": "2014-01-01",
                                    "4": "7",
                                    "5": "2014-01-21",
                                    "6": "293092",
                                    "7": "1",
                                    "8": "CHANGEME/FIXME"
                                },
                                {
                                    "0": "607",
                                    "1": "7",
                                    "2": "CHANGEME/FIXME",
                                    "3": "2014-01-01",
                                    "4": "2",
                                    "5": "2014-01-21",
                                    "6": "BC0280982",
                                    "7": "1",
                                    "8": "CHANGEME/FIXME"
                                },
                                {
                                    "0": "608",
                                    "1": "4",
                                    "2": "CHANGEME/FIXME",
                                    "3": "2014-01-02",
                                    "4": "7",
                                    "5": "2014-01-22",
                                    "6": "293092",
                                    "7": "1",
                                    "8": "CHANGEME/FIXME"
                                },
                                {
                                    "0": "609",
                                    "1": "7",
                                    "2": "CHANGEME/FIXME",
                                    "3": "2014-01-02",
                                    "4": "2",
                                    "5": "2014-01-22",
                                    "6": "BC0280982",
                                    "7": "1",
                                    "8": "CHANGEME/FIXME"
                                },
                                {
                                    "0": "610",
                                    "1": "4",
                                    "2": "CHANGEME/FIXME",
                                    "3": "2014-01-03",
                                    "4": "7",
                                    "5": "2014-01-23",
                                    "6": "293092",
                                    "7": "1",
                                    "8": "CHANGEME/FIXME"
                                },
                                {
                                    "0": "611",
                                    "1": "7",
                                    "2": "CHANGEME/FIXME",
                                    "3": "2014-01-03",
                                    "4": "2",
                                    "5": "2014-01-23",
                                    "6": "BC0280982",
                                    "7": "1",
                                    "8": "CHANGEME/FIXME"
                                },
                                {
                                    "0": "612",
                                    "1": "4",
                                    "2": "CHANGEME/FIXME",
                                    "3": "2014-01-04",
                                    "4": "7",
                                    "5": "2014-01-11",
                                    "6": "293092",
                                    "7": "1",
                                    "8": "CHANGEME/FIXME"
                                },
                                {
                                    "0": "613",
                                    "1": "4",
                                    "2": "CHANGEME/FIXME",
                                    "3": "2014-01-06",
                                    "4": "7",
                                    "5": "2014-01-26",
                                    "6": "293092",
                                    "7": "1",
                                    "8": "CHANGEME/FIXME"
                                },
                                {
                                    "0": "614",
                                    "1": "7",
                                    "2": "CHANGEME/FIXME",
                                    "3": "2014-01-06",
                                    "4": "2",
                                    "5": "2014-01-26",
                                    "6": "BC0280982",
                                    "7": "1",
                                    "8": "CHANGEME/FIXME"
                                },
                                {
                                    "0": "615",
                                    "1": "4",
                                    "2": "CHANGEME/FIXME",
                                    "3": "2014-01-07",
                                    "4": "7",
                                    "5": "2014-01-27",
                                    "6": "293092",
                                    "7": "1",
                                    "8": "CHANGEME/FIXME"
                                },
                                {
                                    "0": "616",
                                    "1": "7",
                                    "2": "CHANGEME/FIXME",
                                    "3": "2014-01-07",
                                    "4": "2",
                                    "5": "2014-01-27",
                                    "6": "BC0280982",
                                    "7": "1",
                                    "8": "CHANGEME/FIXME"
                                },
                                {
                                    "0": "617",
                                    "1": "4",
                                    "2": "CHANGEME/FIXME",
                                    "3": "2014-01-08",
                                    "4": "7",
                                    "5": "2014-01-28",
                                    "6": "293092",
                                    "7": "1",
                                    "8": "CHANGEME/FIXME"
                                },
                                {
                                    "0": "618",
                                    "1": "7",
                                    "2": "CHANGEME/FIXME",
                                    "3": "2014-01-08",
                                    "4": "2",
                                    "5": "2014-01-28",
                                    "6": "BC0280982",
                                    "7": "1",
                                    "8": "CHANGEME/FIXME"
                                },
                                {
                                    "0": "619",
                                    "1": "4",
                                    "2": "CHANGEME/FIXME",
                                    "3": "2014-01-09",
                                    "4": "7",
                                    "5": "2014-01-29",
                                    "6": "293092",
                                    "7": "1",
                                    "8": "CHANGEME/FIXME"
                                },
                                {
                                    "0": "620",
                                    "1": "7",
                                    "2": "CHANGEME/FIXME",
                                    "3": "2014-01-09",
                                    "4": "2",
                                    "5": "2014-01-29",
                                    "6": "BC0280982",
                                    "7": "1",
                                    "8": "CHANGEME/FIXME"
                                },
                                {
                                    "0": "621",
                                    "1": "4",
                                    "2": "CHANGEME/FIXME",
                                    "3": "2014-01-10",
                                    "4": "7",
                                    "5": "2014-01-30",
                                    "6": "293092",
                                    "7": "1",
                                    "8": "CHANGEME/FIXME"
                                },
                                {
                                    "0": "622",
                                    "1": "7",
                                    "2": "CHANGEME/FIXME",
                                    "3": "2014-01-10",
                                    "4": "2",
                                    "5": "2014-01-30",
                                    "6": "BC0280982",
                                    "7": "1",
                                    "8": "CHANGEME/FIXME"
                                },
                                {
                                    "0": "623",
                                    "1": "4",
                                    "2": "CHANGEME/FIXME",
                                    "3": "2014-01-11",
                                    "4": "7",
                                    "5": "2014-01-18",
                                    "6": "293092",
                                    "7": "1",
                                    "8": "CHANGEME/FIXME"
                                },
                                {
                                    "0": "624",
                                    "1": "4",
                                    "2": "CHANGEME/FIXME",
                                    "3": "2014-01-13",
                                    "4": "7",
                                    "5": "2014-02-02",
                                    "6": "293092",
                                    "7": "1",
                                    "8": "CHANGEME/FIXME"
                                },
                                {
                                    "0": "625",
                                    "1": "7",
                                    "2": "CHANGEME/FIXME",
                                    "3": "2014-01-13",
                                    "4": "2",
                                    "5": "2014-02-02",
                                    "6": "BC0280982",
                                    "7": "1",
                                    "8": "CHANGEME/FIXME"
                                },
                                {
                                    "0": "626",
                                    "1": "4",
                                    "2": "CHANGEME/FIXME",
                                    "3": "2014-01-14",
                                    "4": "7",
                                    "5": "2014-02-03",
                                    "6": "293092",
                                    "7": "1",
                                    "8": "CHANGEME/FIXME"
                                },
                                {
                                    "0": "627",
                                    "1": "7",
                                    "2": "CHANGEME/FIXME",
                                    "3": "2014-01-14",
                                    "4": "2",
                                    "5": "2014-02-03",
                                    "6": "BC0280982",
                                    "7": "1",
                                    "8": "CHANGEME/FIXME"
                                },
                                {
                                    "0": "628",
                                    "1": "4",
                                    "2": "CHANGEME/FIXME",
                                    "3": "2014-01-15",
                                    "4": "7",
                                    "5": "2014-02-04",
                                    "6": "293092",
                                    "7": "1",
                                    "8": "CHANGEME/FIXME"
                                },
                                {
                                    "0": "629",
                                    "1": "7",
                                    "2": "CHANGEME/FIXME",
                                    "3": "2014-01-15",
                                    "4": "2",
                                    "5": "2014-02-04",
                                    "6": "BC0280982",
                                    "7": "1",
                                    "8": "CHANGEME/FIXME"
                                },
                                {
                                    "0": "630",
                                    "1": "4",
                                    "2": "CHANGEME/FIXME",
                                    "3": "2014-01-16",
                                    "4": "7",
                                    "5": "2014-02-05",
                                    "6": "293092",
                                    "7": "1",
                                    "8": "CHANGEME/FIXME"
                                },
                                {
                                    "0": "631",
                                    "1": "7",
                                    "2": "CHANGEME/FIXME",
                                    "3": "2014-01-16",
                                    "4": "2",
                                    "5": "2014-02-05",
                                    "6": "BC0280982",
                                    "7": "1",
                                    "8": "CHANGEME/FIXME"
                                },
                                {
                                    "0": "632",
                                    "1": "4",
                                    "2": "CHANGEME/FIXME",
                                    "3": "2014-01-17",
                                    "4": "7",
                                    "5": "2014-02-06",
                                    "6": "293092",
                                    "7": "1",
                                    "8": "CHANGEME/FIXME"
                                },
                                {
                                    "0": "633",
                                    "1": "7",
                                    "2": "CHANGEME/FIXME",
                                    "3": "2014-01-17",
                                    "4": "2",
                                    "5": "2014-02-06",
                                    "6": "BC0280982",
                                    "7": "1",
                                    "8": "CHANGEME/FIXME"
                                },
                                {
                                    "0": "634",
                                    "1": "4",
                                    "2": "CHANGEME/FIXME",
                                    "3": "2014-01-18",
                                    "4": "7",
                                    "5": "2014-02-07",
                                    "6": "293092",
                                    "7": "1",
                                    "8": "CHANGEME/FIXME"
                                },
                                {
                                    "0": "635",
                                    "1": "7",
                                    "2": "CHANGEME/FIXME",
                                    "3": "2014-01-18",
                                    "4": "2",
                                    "5": "2014-02-07",
                                    "6": "BC0280982",
                                    "7": "1",
                                    "8": "CHANGEME/FIXME"
                                },
                                {
                                    "0": "636",
                                    "1": "4",
                                    "2": "CHANGEME/FIXME",
                                    "3": "2014-01-20",
                                    "4": "7",
                                    "5": "2014-02-09",
                                    "6": "293092",
                                    "7": "1",
                                    "8": "CHANGEME/FIXME"
                                },
                                {
                                    "0": "637",
                                    "1": "7",
                                    "2": "CHANGEME/FIXME",
                                    "3": "2014-01-20",
                                    "4": "2",
                                    "5": "2014-02-09",
                                    "6": "BC0280982",
                                    "7": "1",
                                    "8": "CHANGEME/FIXME"
                                },
                                {
                                    "0": "638",
                                    "1": "4",
                                    "2": "CHANGEME/FIXME",
                                    "3": "2014-01-21",
                                    "4": "7",
                                    "5": "2014-02-10",
                                    "6": "293092",
                                    "7": "1",
                                    "8": "CHANGEME/FIXME"
                                },
                                {
                                    "0": "639",
                                    "1": "7",
                                    "2": "CHANGEME/FIXME",
                                    "3": "2014-01-21",
                                    "4": "2",
                                    "5": "2014-02-10",
                                    "6": "BC0280982",
                                    "7": "1",
                                    "8": "CHANGEME/FIXME"
                                },
                                {
                                    "0": "640",
                                    "1": "4",
                                    "2": "CHANGEME/FIXME",
                                    "3": "2014-01-22",
                                    "4": "7",
                                    "5": "2014-02-11",
                                    "6": "293092",
                                    "7": "1",
                                    "8": "CHANGEME/FIXME"
                                },
                                {
                                    "0": "641",
                                    "1": "7",
                                    "2": "CHANGEME/FIXME",
                                    "3": "2014-01-22",
                                    "4": "2",
                                    "5": "2014-02-11",
                                    "6": "BC0280982",
                                    "7": "1",
                                    "8": "CHANGEME/FIXME"
                                },
                                {
                                    "0": "642",
                                    "1": "4",
                                    "2": "CHANGEME/FIXME",
                                    "3": "2014-01-23",
                                    "4": "7",
                                    "5": "2014-02-12",
                                    "6": "293092",
                                    "7": "1",
                                    "8": "CHANGEME/FIXME"
                                },
                                {
                                    "0": "643",
                                    "1": "7",
                                    "2": "CHANGEME/FIXME",
                                    "3": "2014-01-23",
                                    "4": "2",
                                    "5": "2014-02-12",
                                    "6": "BC0280982",
                                    "7": "1",
                                    "8": "CHANGEME/FIXME"
                                },
                                {
                                    "0": "644",
                                    "1": "4",
                                    "2": "CHANGEME/FIXME",
                                    "3": "2014-01-24",
                                    "4": "7",
                                    "5": "2014-02-13",
                                    "6": "293092",
                                    "7": "1",
                                    "8": "CHANGEME/FIXME"
                                },
                                {
                                    "0": "645",
                                    "1": "7",
                                    "2": "CHANGEME/FIXME",
                                    "3": "2014-01-24",
                                    "4": "2",
                                    "5": "2014-02-13",
                                    "6": "BC0280982",
                                    "7": "1",
                                    "8": "CHANGEME/FIXME"
                                },
                                {
                                    "0": "646",
                                    "1": "7",
                                    "2": "CHANGEME/FIXME",
                                    "3": "2014-01-25",
                                    "4": "2",
                                    "5": "2014-02-14",
                                    "6": "BC0280982",
                                    "7": "1",
                                    "8": "CHANGEME/FIXME"
                                },
                                {
                                    "0": "647",
                                    "1": "4",
                                    "2": "CHANGEME/FIXME",
                                    "3": "2014-01-27",
                                    "4": "7",
                                    "5": "2014-02-16",
                                    "6": "293092",
                                    "7": "1",
                                    "8": "CHANGEME/FIXME"
                                },
                                {
                                    "0": "648",
                                    "1": "7",
                                    "2": "CHANGEME/FIXME",
                                    "3": "2014-01-27",
                                    "4": "2",
                                    "5": "2014-02-16",
                                    "6": "BC0280982",
                                    "7": "1",
                                    "8": "CHANGEME/FIXME"
                                },
                                {
                                    "0": "649",
                                    "1": "4",
                                    "2": "CHANGEME/FIXME",
                                    "3": "2014-01-28",
                                    "4": "7",
                                    "5": "2014-02-17",
                                    "6": "293092",
                                    "7": "1",
                                    "8": "CHANGEME/FIXME"
                                },
                                {
                                    "0": "650",
                                    "1": "7",
                                    "2": "CHANGEME/FIXME",
                                    "3": "2014-01-28",
                                    "4": "2",
                                    "5": "2014-02-17",
                                    "6": "BC0280982",
                                    "7": "1",
                                    "8": "CHANGEME/FIXME"
                                },
                                {
                                    "0": "651",
                                    "1": "4",
                                    "2": "CHANGEME/FIXME",
                                    "3": "2014-01-29",
                                    "4": "7",
                                    "5": "2014-02-18",
                                    "6": "293092",
                                    "7": "1",
                                    "8": "CHANGEME/FIXME"
                                },
                                {
                                    "0": "652",
                                    "1": "7",
                                    "2": "CHANGEME/FIXME",
                                    "3": "2014-01-29",
                                    "4": "2",
                                    "5": "2014-02-18",
                                    "6": "BC0280982",
                                    "7": "1",
                                    "8": "CHANGEME/FIXME"
                                },
                                {
                                    "0": "653",
                                    "1": "4",
                                    "2": "CHANGEME/FIXME",
                                    "3": "2014-01-30",
                                    "4": "7",
                                    "5": "2014-02-19",
                                    "6": "293092",
                                    "7": "1",
                                    "8": "CHANGEME/FIXME"
                                },
                                {
                                    "0": "654",
                                    "1": "7",
                                    "2": "CHANGEME/FIXME",
                                    "3": "2014-01-30",
                                    "4": "2",
                                    "5": "2014-02-19",
                                    "6": "BC0280982",
                                    "7": "1",
                                    "8": "CHANGEME/FIXME"
                                },
                                {
                                    "0": "655",
                                    "1": "4",
                                    "2": "CHANGEME/FIXME",
                                    "3": "2014-01-31",
                                    "4": "7",
                                    "5": "2014-02-20",
                                    "6": "293092",
                                    "7": "1",
                                    "8": "CHANGEME/FIXME"
                                },
                                {
                                    "0": "656",
                                    "1": "7",
                                    "2": "CHANGEME/FIXME",
                                    "3": "2014-01-31",
                                    "4": "2",
                                    "5": "2014-02-20",
                                    "6": "BC0280982",
                                    "7": "1",
                                    "8": "CHANGEME/FIXME"
                                },
                                {
                                    "0": "657",
                                    "1": "4",
                                    "2": "CHANGEME/FIXME",
                                    "3": "2014-02-01",
                                    "4": "7",
                                    "5": "2014-02-15",
                                    "6": "293092",
                                    "7": "1",
                                    "8": "CHANGEME/FIXME"
                                },
                                {
                                    "0": "658",
                                    "1": "7",
                                    "2": "CHANGEME/FIXME",
                                    "3": "2014-02-01",
                                    "4": "2",
                                    "5": "2014-02-15",
                                    "6": "BC0280982",
                                    "7": "1",
                                    "8": "CHANGEME/FIXME"
                                }
                            ]
                        },
                        "text/html": "<table><tr><th>PurchaseOrderID</th><th>SupplierID</th><th>OrderPeriod</th><th>OrderDate</th><th>DeliveryMethodID</th><th>ExpectedDeliveryDate</th><th>SupplierReference</th><th>IsOrderFinalized</th><th>ExpectedDaysToDelivery</th></tr><tr><td>558</td><td>4</td><td>CHANGEME/FIXME</td><td>2013-12-02</td><td>7</td><td>2013-12-22</td><td>293092</td><td>1</td><td>CHANGEME/FIXME</td></tr><tr><td>559</td><td>7</td><td>CHANGEME/FIXME</td><td>2013-12-02</td><td>2</td><td>2013-12-22</td><td>BC0280982</td><td>1</td><td>CHANGEME/FIXME</td></tr><tr><td>560</td><td>4</td><td>CHANGEME/FIXME</td><td>2013-12-03</td><td>7</td><td>2013-12-23</td><td>293092</td><td>1</td><td>CHANGEME/FIXME</td></tr><tr><td>561</td><td>7</td><td>CHANGEME/FIXME</td><td>2013-12-03</td><td>2</td><td>2013-12-23</td><td>BC0280982</td><td>1</td><td>CHANGEME/FIXME</td></tr><tr><td>562</td><td>4</td><td>CHANGEME/FIXME</td><td>2013-12-04</td><td>7</td><td>2013-12-24</td><td>293092</td><td>1</td><td>CHANGEME/FIXME</td></tr><tr><td>563</td><td>7</td><td>CHANGEME/FIXME</td><td>2013-12-04</td><td>2</td><td>2013-12-24</td><td>BC0280982</td><td>1</td><td>CHANGEME/FIXME</td></tr><tr><td>564</td><td>4</td><td>CHANGEME/FIXME</td><td>2013-12-05</td><td>7</td><td>2013-12-25</td><td>293092</td><td>1</td><td>CHANGEME/FIXME</td></tr><tr><td>565</td><td>7</td><td>CHANGEME/FIXME</td><td>2013-12-05</td><td>2</td><td>2013-12-25</td><td>BC0280982</td><td>1</td><td>CHANGEME/FIXME</td></tr><tr><td>566</td><td>4</td><td>CHANGEME/FIXME</td><td>2013-12-06</td><td>7</td><td>2013-12-26</td><td>293092</td><td>1</td><td>CHANGEME/FIXME</td></tr><tr><td>567</td><td>7</td><td>CHANGEME/FIXME</td><td>2013-12-06</td><td>2</td><td>2013-12-26</td><td>BC0280982</td><td>1</td><td>CHANGEME/FIXME</td></tr><tr><td>568</td><td>4</td><td>CHANGEME/FIXME</td><td>2013-12-09</td><td>7</td><td>2013-12-29</td><td>293092</td><td>1</td><td>CHANGEME/FIXME</td></tr><tr><td>569</td><td>7</td><td>CHANGEME/FIXME</td><td>2013-12-09</td><td>2</td><td>2013-12-29</td><td>BC0280982</td><td>1</td><td>CHANGEME/FIXME</td></tr><tr><td>570</td><td>4</td><td>CHANGEME/FIXME</td><td>2013-12-10</td><td>7</td><td>2013-12-30</td><td>293092</td><td>1</td><td>CHANGEME/FIXME</td></tr><tr><td>571</td><td>7</td><td>CHANGEME/FIXME</td><td>2013-12-10</td><td>2</td><td>2013-12-30</td><td>BC0280982</td><td>1</td><td>CHANGEME/FIXME</td></tr><tr><td>572</td><td>4</td><td>CHANGEME/FIXME</td><td>2013-12-11</td><td>7</td><td>2013-12-31</td><td>293092</td><td>1</td><td>CHANGEME/FIXME</td></tr><tr><td>573</td><td>7</td><td>CHANGEME/FIXME</td><td>2013-12-11</td><td>2</td><td>2013-12-31</td><td>BC0280982</td><td>1</td><td>CHANGEME/FIXME</td></tr><tr><td>574</td><td>4</td><td>CHANGEME/FIXME</td><td>2013-12-12</td><td>7</td><td>2014-01-01</td><td>293092</td><td>1</td><td>CHANGEME/FIXME</td></tr><tr><td>575</td><td>7</td><td>CHANGEME/FIXME</td><td>2013-12-12</td><td>2</td><td>2014-01-01</td><td>BC0280982</td><td>1</td><td>CHANGEME/FIXME</td></tr><tr><td>576</td><td>4</td><td>CHANGEME/FIXME</td><td>2013-12-13</td><td>7</td><td>2014-01-02</td><td>293092</td><td>1</td><td>CHANGEME/FIXME</td></tr><tr><td>577</td><td>7</td><td>CHANGEME/FIXME</td><td>2013-12-13</td><td>2</td><td>2014-01-02</td><td>BC0280982</td><td>1</td><td>CHANGEME/FIXME</td></tr><tr><td>578</td><td>4</td><td>CHANGEME/FIXME</td><td>2013-12-14</td><td>7</td><td>2013-12-21</td><td>293092</td><td>1</td><td>CHANGEME/FIXME</td></tr><tr><td>579</td><td>4</td><td>CHANGEME/FIXME</td><td>2013-12-16</td><td>7</td><td>2014-01-05</td><td>293092</td><td>1</td><td>CHANGEME/FIXME</td></tr><tr><td>580</td><td>7</td><td>CHANGEME/FIXME</td><td>2013-12-16</td><td>2</td><td>2014-01-05</td><td>BC0280982</td><td>1</td><td>CHANGEME/FIXME</td></tr><tr><td>581</td><td>4</td><td>CHANGEME/FIXME</td><td>2013-12-17</td><td>7</td><td>2014-01-06</td><td>293092</td><td>1</td><td>CHANGEME/FIXME</td></tr><tr><td>582</td><td>7</td><td>CHANGEME/FIXME</td><td>2013-12-17</td><td>2</td><td>2014-01-06</td><td>BC0280982</td><td>1</td><td>CHANGEME/FIXME</td></tr><tr><td>583</td><td>4</td><td>CHANGEME/FIXME</td><td>2013-12-18</td><td>7</td><td>2014-01-07</td><td>293092</td><td>1</td><td>CHANGEME/FIXME</td></tr><tr><td>584</td><td>7</td><td>CHANGEME/FIXME</td><td>2013-12-18</td><td>2</td><td>2014-01-07</td><td>BC0280982</td><td>1</td><td>CHANGEME/FIXME</td></tr><tr><td>585</td><td>4</td><td>CHANGEME/FIXME</td><td>2013-12-19</td><td>7</td><td>2014-01-08</td><td>293092</td><td>1</td><td>CHANGEME/FIXME</td></tr><tr><td>586</td><td>7</td><td>CHANGEME/FIXME</td><td>2013-12-19</td><td>2</td><td>2014-01-08</td><td>BC0280982</td><td>1</td><td>CHANGEME/FIXME</td></tr><tr><td>587</td><td>4</td><td>CHANGEME/FIXME</td><td>2013-12-20</td><td>7</td><td>2014-01-09</td><td>293092</td><td>1</td><td>CHANGEME/FIXME</td></tr><tr><td>588</td><td>7</td><td>CHANGEME/FIXME</td><td>2013-12-20</td><td>2</td><td>2014-01-09</td><td>BC0280982</td><td>1</td><td>CHANGEME/FIXME</td></tr><tr><td>589</td><td>4</td><td>CHANGEME/FIXME</td><td>2013-12-21</td><td>7</td><td>2014-01-10</td><td>293092</td><td>1</td><td>CHANGEME/FIXME</td></tr><tr><td>590</td><td>7</td><td>CHANGEME/FIXME</td><td>2013-12-21</td><td>2</td><td>2014-01-10</td><td>BC0280982</td><td>1</td><td>CHANGEME/FIXME</td></tr><tr><td>591</td><td>4</td><td>CHANGEME/FIXME</td><td>2013-12-23</td><td>7</td><td>2014-01-12</td><td>293092</td><td>1</td><td>CHANGEME/FIXME</td></tr><tr><td>592</td><td>7</td><td>CHANGEME/FIXME</td><td>2013-12-23</td><td>2</td><td>2014-01-12</td><td>BC0280982</td><td>1</td><td>CHANGEME/FIXME</td></tr><tr><td>593</td><td>4</td><td>CHANGEME/FIXME</td><td>2013-12-24</td><td>7</td><td>2014-01-13</td><td>293092</td><td>1</td><td>CHANGEME/FIXME</td></tr><tr><td>594</td><td>7</td><td>CHANGEME/FIXME</td><td>2013-12-24</td><td>2</td><td>2014-01-13</td><td>BC0280982</td><td>1</td><td>CHANGEME/FIXME</td></tr><tr><td>595</td><td>4</td><td>CHANGEME/FIXME</td><td>2013-12-25</td><td>7</td><td>2014-01-14</td><td>293092</td><td>1</td><td>CHANGEME/FIXME</td></tr><tr><td>596</td><td>7</td><td>CHANGEME/FIXME</td><td>2013-12-25</td><td>2</td><td>2014-01-14</td><td>BC0280982</td><td>1</td><td>CHANGEME/FIXME</td></tr><tr><td>597</td><td>4</td><td>CHANGEME/FIXME</td><td>2013-12-26</td><td>7</td><td>2014-01-15</td><td>293092</td><td>1</td><td>CHANGEME/FIXME</td></tr><tr><td>598</td><td>7</td><td>CHANGEME/FIXME</td><td>2013-12-26</td><td>2</td><td>2014-01-15</td><td>BC0280982</td><td>1</td><td>CHANGEME/FIXME</td></tr><tr><td>599</td><td>4</td><td>CHANGEME/FIXME</td><td>2013-12-27</td><td>7</td><td>2014-01-16</td><td>293092</td><td>1</td><td>CHANGEME/FIXME</td></tr><tr><td>600</td><td>7</td><td>CHANGEME/FIXME</td><td>2013-12-27</td><td>2</td><td>2014-01-16</td><td>BC0280982</td><td>1</td><td>CHANGEME/FIXME</td></tr><tr><td>601</td><td>4</td><td>CHANGEME/FIXME</td><td>2013-12-28</td><td>7</td><td>2014-01-04</td><td>293092</td><td>1</td><td>CHANGEME/FIXME</td></tr><tr><td>602</td><td>4</td><td>CHANGEME/FIXME</td><td>2013-12-30</td><td>7</td><td>2014-01-19</td><td>293092</td><td>1</td><td>CHANGEME/FIXME</td></tr><tr><td>603</td><td>7</td><td>CHANGEME/FIXME</td><td>2013-12-30</td><td>2</td><td>2014-01-19</td><td>BC0280982</td><td>1</td><td>CHANGEME/FIXME</td></tr><tr><td>604</td><td>4</td><td>CHANGEME/FIXME</td><td>2013-12-31</td><td>7</td><td>2014-01-20</td><td>293092</td><td>1</td><td>CHANGEME/FIXME</td></tr><tr><td>605</td><td>7</td><td>CHANGEME/FIXME</td><td>2013-12-31</td><td>2</td><td>2014-01-20</td><td>BC0280982</td><td>1</td><td>CHANGEME/FIXME</td></tr><tr><td>606</td><td>4</td><td>CHANGEME/FIXME</td><td>2014-01-01</td><td>7</td><td>2014-01-21</td><td>293092</td><td>1</td><td>CHANGEME/FIXME</td></tr><tr><td>607</td><td>7</td><td>CHANGEME/FIXME</td><td>2014-01-01</td><td>2</td><td>2014-01-21</td><td>BC0280982</td><td>1</td><td>CHANGEME/FIXME</td></tr><tr><td>608</td><td>4</td><td>CHANGEME/FIXME</td><td>2014-01-02</td><td>7</td><td>2014-01-22</td><td>293092</td><td>1</td><td>CHANGEME/FIXME</td></tr><tr><td>609</td><td>7</td><td>CHANGEME/FIXME</td><td>2014-01-02</td><td>2</td><td>2014-01-22</td><td>BC0280982</td><td>1</td><td>CHANGEME/FIXME</td></tr><tr><td>610</td><td>4</td><td>CHANGEME/FIXME</td><td>2014-01-03</td><td>7</td><td>2014-01-23</td><td>293092</td><td>1</td><td>CHANGEME/FIXME</td></tr><tr><td>611</td><td>7</td><td>CHANGEME/FIXME</td><td>2014-01-03</td><td>2</td><td>2014-01-23</td><td>BC0280982</td><td>1</td><td>CHANGEME/FIXME</td></tr><tr><td>612</td><td>4</td><td>CHANGEME/FIXME</td><td>2014-01-04</td><td>7</td><td>2014-01-11</td><td>293092</td><td>1</td><td>CHANGEME/FIXME</td></tr><tr><td>613</td><td>4</td><td>CHANGEME/FIXME</td><td>2014-01-06</td><td>7</td><td>2014-01-26</td><td>293092</td><td>1</td><td>CHANGEME/FIXME</td></tr><tr><td>614</td><td>7</td><td>CHANGEME/FIXME</td><td>2014-01-06</td><td>2</td><td>2014-01-26</td><td>BC0280982</td><td>1</td><td>CHANGEME/FIXME</td></tr><tr><td>615</td><td>4</td><td>CHANGEME/FIXME</td><td>2014-01-07</td><td>7</td><td>2014-01-27</td><td>293092</td><td>1</td><td>CHANGEME/FIXME</td></tr><tr><td>616</td><td>7</td><td>CHANGEME/FIXME</td><td>2014-01-07</td><td>2</td><td>2014-01-27</td><td>BC0280982</td><td>1</td><td>CHANGEME/FIXME</td></tr><tr><td>617</td><td>4</td><td>CHANGEME/FIXME</td><td>2014-01-08</td><td>7</td><td>2014-01-28</td><td>293092</td><td>1</td><td>CHANGEME/FIXME</td></tr><tr><td>618</td><td>7</td><td>CHANGEME/FIXME</td><td>2014-01-08</td><td>2</td><td>2014-01-28</td><td>BC0280982</td><td>1</td><td>CHANGEME/FIXME</td></tr><tr><td>619</td><td>4</td><td>CHANGEME/FIXME</td><td>2014-01-09</td><td>7</td><td>2014-01-29</td><td>293092</td><td>1</td><td>CHANGEME/FIXME</td></tr><tr><td>620</td><td>7</td><td>CHANGEME/FIXME</td><td>2014-01-09</td><td>2</td><td>2014-01-29</td><td>BC0280982</td><td>1</td><td>CHANGEME/FIXME</td></tr><tr><td>621</td><td>4</td><td>CHANGEME/FIXME</td><td>2014-01-10</td><td>7</td><td>2014-01-30</td><td>293092</td><td>1</td><td>CHANGEME/FIXME</td></tr><tr><td>622</td><td>7</td><td>CHANGEME/FIXME</td><td>2014-01-10</td><td>2</td><td>2014-01-30</td><td>BC0280982</td><td>1</td><td>CHANGEME/FIXME</td></tr><tr><td>623</td><td>4</td><td>CHANGEME/FIXME</td><td>2014-01-11</td><td>7</td><td>2014-01-18</td><td>293092</td><td>1</td><td>CHANGEME/FIXME</td></tr><tr><td>624</td><td>4</td><td>CHANGEME/FIXME</td><td>2014-01-13</td><td>7</td><td>2014-02-02</td><td>293092</td><td>1</td><td>CHANGEME/FIXME</td></tr><tr><td>625</td><td>7</td><td>CHANGEME/FIXME</td><td>2014-01-13</td><td>2</td><td>2014-02-02</td><td>BC0280982</td><td>1</td><td>CHANGEME/FIXME</td></tr><tr><td>626</td><td>4</td><td>CHANGEME/FIXME</td><td>2014-01-14</td><td>7</td><td>2014-02-03</td><td>293092</td><td>1</td><td>CHANGEME/FIXME</td></tr><tr><td>627</td><td>7</td><td>CHANGEME/FIXME</td><td>2014-01-14</td><td>2</td><td>2014-02-03</td><td>BC0280982</td><td>1</td><td>CHANGEME/FIXME</td></tr><tr><td>628</td><td>4</td><td>CHANGEME/FIXME</td><td>2014-01-15</td><td>7</td><td>2014-02-04</td><td>293092</td><td>1</td><td>CHANGEME/FIXME</td></tr><tr><td>629</td><td>7</td><td>CHANGEME/FIXME</td><td>2014-01-15</td><td>2</td><td>2014-02-04</td><td>BC0280982</td><td>1</td><td>CHANGEME/FIXME</td></tr><tr><td>630</td><td>4</td><td>CHANGEME/FIXME</td><td>2014-01-16</td><td>7</td><td>2014-02-05</td><td>293092</td><td>1</td><td>CHANGEME/FIXME</td></tr><tr><td>631</td><td>7</td><td>CHANGEME/FIXME</td><td>2014-01-16</td><td>2</td><td>2014-02-05</td><td>BC0280982</td><td>1</td><td>CHANGEME/FIXME</td></tr><tr><td>632</td><td>4</td><td>CHANGEME/FIXME</td><td>2014-01-17</td><td>7</td><td>2014-02-06</td><td>293092</td><td>1</td><td>CHANGEME/FIXME</td></tr><tr><td>633</td><td>7</td><td>CHANGEME/FIXME</td><td>2014-01-17</td><td>2</td><td>2014-02-06</td><td>BC0280982</td><td>1</td><td>CHANGEME/FIXME</td></tr><tr><td>634</td><td>4</td><td>CHANGEME/FIXME</td><td>2014-01-18</td><td>7</td><td>2014-02-07</td><td>293092</td><td>1</td><td>CHANGEME/FIXME</td></tr><tr><td>635</td><td>7</td><td>CHANGEME/FIXME</td><td>2014-01-18</td><td>2</td><td>2014-02-07</td><td>BC0280982</td><td>1</td><td>CHANGEME/FIXME</td></tr><tr><td>636</td><td>4</td><td>CHANGEME/FIXME</td><td>2014-01-20</td><td>7</td><td>2014-02-09</td><td>293092</td><td>1</td><td>CHANGEME/FIXME</td></tr><tr><td>637</td><td>7</td><td>CHANGEME/FIXME</td><td>2014-01-20</td><td>2</td><td>2014-02-09</td><td>BC0280982</td><td>1</td><td>CHANGEME/FIXME</td></tr><tr><td>638</td><td>4</td><td>CHANGEME/FIXME</td><td>2014-01-21</td><td>7</td><td>2014-02-10</td><td>293092</td><td>1</td><td>CHANGEME/FIXME</td></tr><tr><td>639</td><td>7</td><td>CHANGEME/FIXME</td><td>2014-01-21</td><td>2</td><td>2014-02-10</td><td>BC0280982</td><td>1</td><td>CHANGEME/FIXME</td></tr><tr><td>640</td><td>4</td><td>CHANGEME/FIXME</td><td>2014-01-22</td><td>7</td><td>2014-02-11</td><td>293092</td><td>1</td><td>CHANGEME/FIXME</td></tr><tr><td>641</td><td>7</td><td>CHANGEME/FIXME</td><td>2014-01-22</td><td>2</td><td>2014-02-11</td><td>BC0280982</td><td>1</td><td>CHANGEME/FIXME</td></tr><tr><td>642</td><td>4</td><td>CHANGEME/FIXME</td><td>2014-01-23</td><td>7</td><td>2014-02-12</td><td>293092</td><td>1</td><td>CHANGEME/FIXME</td></tr><tr><td>643</td><td>7</td><td>CHANGEME/FIXME</td><td>2014-01-23</td><td>2</td><td>2014-02-12</td><td>BC0280982</td><td>1</td><td>CHANGEME/FIXME</td></tr><tr><td>644</td><td>4</td><td>CHANGEME/FIXME</td><td>2014-01-24</td><td>7</td><td>2014-02-13</td><td>293092</td><td>1</td><td>CHANGEME/FIXME</td></tr><tr><td>645</td><td>7</td><td>CHANGEME/FIXME</td><td>2014-01-24</td><td>2</td><td>2014-02-13</td><td>BC0280982</td><td>1</td><td>CHANGEME/FIXME</td></tr><tr><td>646</td><td>7</td><td>CHANGEME/FIXME</td><td>2014-01-25</td><td>2</td><td>2014-02-14</td><td>BC0280982</td><td>1</td><td>CHANGEME/FIXME</td></tr><tr><td>647</td><td>4</td><td>CHANGEME/FIXME</td><td>2014-01-27</td><td>7</td><td>2014-02-16</td><td>293092</td><td>1</td><td>CHANGEME/FIXME</td></tr><tr><td>648</td><td>7</td><td>CHANGEME/FIXME</td><td>2014-01-27</td><td>2</td><td>2014-02-16</td><td>BC0280982</td><td>1</td><td>CHANGEME/FIXME</td></tr><tr><td>649</td><td>4</td><td>CHANGEME/FIXME</td><td>2014-01-28</td><td>7</td><td>2014-02-17</td><td>293092</td><td>1</td><td>CHANGEME/FIXME</td></tr><tr><td>650</td><td>7</td><td>CHANGEME/FIXME</td><td>2014-01-28</td><td>2</td><td>2014-02-17</td><td>BC0280982</td><td>1</td><td>CHANGEME/FIXME</td></tr><tr><td>651</td><td>4</td><td>CHANGEME/FIXME</td><td>2014-01-29</td><td>7</td><td>2014-02-18</td><td>293092</td><td>1</td><td>CHANGEME/FIXME</td></tr><tr><td>652</td><td>7</td><td>CHANGEME/FIXME</td><td>2014-01-29</td><td>2</td><td>2014-02-18</td><td>BC0280982</td><td>1</td><td>CHANGEME/FIXME</td></tr><tr><td>653</td><td>4</td><td>CHANGEME/FIXME</td><td>2014-01-30</td><td>7</td><td>2014-02-19</td><td>293092</td><td>1</td><td>CHANGEME/FIXME</td></tr><tr><td>654</td><td>7</td><td>CHANGEME/FIXME</td><td>2014-01-30</td><td>2</td><td>2014-02-19</td><td>BC0280982</td><td>1</td><td>CHANGEME/FIXME</td></tr><tr><td>655</td><td>4</td><td>CHANGEME/FIXME</td><td>2014-01-31</td><td>7</td><td>2014-02-20</td><td>293092</td><td>1</td><td>CHANGEME/FIXME</td></tr><tr><td>656</td><td>7</td><td>CHANGEME/FIXME</td><td>2014-01-31</td><td>2</td><td>2014-02-20</td><td>BC0280982</td><td>1</td><td>CHANGEME/FIXME</td></tr><tr><td>657</td><td>4</td><td>CHANGEME/FIXME</td><td>2014-02-01</td><td>7</td><td>2014-02-15</td><td>293092</td><td>1</td><td>CHANGEME/FIXME</td></tr><tr><td>658</td><td>7</td><td>CHANGEME/FIXME</td><td>2014-02-01</td><td>2</td><td>2014-02-15</td><td>BC0280982</td><td>1</td><td>CHANGEME/FIXME</td></tr></table>"
                    }
                }
            ],
            "execution_count": 2
        },
        {
            "cell_type": "markdown",
            "source": "## Q2: Delivery Period Summary\r\n\r\nBuilding on the last query, I would like to get an Aggregate based on `OrderPeriod`\r\n\r\n### Task:\r\n\r\n- **Modify** the below query to return \r\n    - Add the `DeliveryMethodName` from `Application.DeliveryMethods`\r\n    - Add a new column `MinExpectedDaysToDelivery` which is the `MIN` of `ExpectedDaysToDelivery`\r\n    - Add a new column `MaxExpectedDaysToDelivery` which is the `MAX` of `ExpectedDaysToDelivery`\r\n    - Aggregate by `OrderPeriod`\r\n    - Aggregate by `DeliveryMethodName`\r\n\r\n### Validation ResultSet\r\n|OrderPeriod|DeliveryMethodName|MinExpectedDaysToDelivery|MaxExpectedDaysToDelivery|TotalPurchaseOrders|\r\n|----------|-------|--|--|--|\r\n|2013-12-01|Courier|20|20|23|\r\n|.|\r\n|2014-03-01|Courier|14|20|24|\r\n|.|\r\n|2014-05-01|Courier|14|20|25|\r\n\r\n",
            "metadata": {}
        },
        {
            "cell_type": "code",
            "source": "USE WideWorldImporters;\r\n\r\nSELECT\r\n    'CHANGEME/FIXME' AS OrderPeriod\r\n  , DeliveryMethodName\r\n  , MIN( 'CHANGEME/FIXME') AS MinExpectedDaysToDelivery\r\n  , MAX( 'CHANGEME/FIXME') AS MaxExpectedDaysToDelivery\r\n  , COUNT(1) AS TotalPurchaseOrders\r\nFROM\r\n    Purchasing.PurchaseOrders P\r\nWHERE P.IsOrderFinalized = 1\r\nAND DeliveryMethodName = 'Courier'\r\nAND P.OrderDate BETWEEN '2013-12-01' AND '2014-06-01'\r\n",
            "metadata": {},
            "outputs": [
                {
                    "output_type": "error",
                    "evalue": "Msg 207, Level 16, State 1, Line 3\r\nInvalid column name 'DeliveryMethodName'.",
                    "ename": "",
                    "traceback": []
                },
                {
                    "output_type": "error",
                    "evalue": "Msg 207, Level 16, State 1, Line 3\r\nInvalid column name 'DeliveryMethodName'.",
                    "ename": "",
                    "traceback": []
                },
                {
                    "output_type": "display_data",
                    "data": {
                        "text/html": "Total execution time: 00:00:00.005"
                    },
                    "metadata": {}
                }
            ],
            "execution_count": 3
        }
    ]
}